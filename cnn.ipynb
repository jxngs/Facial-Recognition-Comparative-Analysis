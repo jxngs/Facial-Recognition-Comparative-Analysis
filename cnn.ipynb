{
 "cells": [
  {
   "cell_type": "code",
   "execution_count": 120,
   "metadata": {},
   "outputs": [],
   "source": [
    "import numpy as np\n",
    "import tensorflow as tf\n",
    "import keras\n",
    "from tensorflow.keras import layers\n",
    "import os\n",
    "from sklearn.model_selection import train_test_split"
   ]
  },
  {
   "cell_type": "code",
   "execution_count": 121,
   "metadata": {},
   "outputs": [],
   "source": [
    "from sklearn import datasets\n",
    "face_dataset = datasets.fetch_lfw_people(min_faces_per_person=50)\n",
    "IMAGE_SIZE = face_dataset.images[0].shape "
   ]
  },
  {
   "cell_type": "code",
   "execution_count": 127,
   "metadata": {},
   "outputs": [
    {
     "data": {
      "image/jpeg": "[encoded data removed]",
      "image/png": "[encoded data removed]",
      "text/plain": [
       "<PIL.Image.Image image mode=L size=47x62>"
      ]
     },
     "metadata": {},
     "output_type": "display_data"
    }
   ],
   "source": [
    "# Show the first image in the image dataset\n",
    "first_image = face_dataset.images[0]\n",
    "img = keras.preprocessing.image.array_to_img(np.expand_dims(first_image * 255, axis=-1))\n",
    "display(img)"
   ]
  },
  {
   "cell_type": "code",
   "execution_count": 222,
   "metadata": {},
   "outputs": [],
   "source": [
    "# filter out images if they're the > 150th image for a class -- don't want too many of some classes\n",
    "kept_images = []\n",
    "kept_labels = []\n",
    "frequencies = {}\n",
    "\n",
    "for image, label in zip(face_dataset.images, face_dataset.target):\n",
    "    if label not in frequencies:\n",
    "        frequencies[label] = 0\n",
    "    if frequencies[label] > 150:\n",
    "        continue\n",
    "    kept_images.append(image)\n",
    "    kept_labels.append(label)\n",
    "    frequencies[label] += 1"
   ]
  },
  {
   "cell_type": "code",
   "execution_count": 223,
   "metadata": {},
   "outputs": [],
   "source": [
    "# remap labels from [0, N - 1]\n",
    "\n",
    "old_labels_to_new_labels = {}\n",
    "for label in kept_labels:\n",
    "    if label not in old_labels_to_new_labels:\n",
    "        old_labels_to_new_labels[label] = len(old_labels_to_new_labels)\n",
    "\n",
    "kept_labels = [old_labels_to_new_labels[label] for label in kept_labels]"
   ]
  },
  {
   "cell_type": "code",
   "execution_count": 247,
   "metadata": {},
   "outputs": [],
   "source": [
    "images = np.expand_dims(np.asarray(kept_images), axis=-1) # necessary to show there is 1 channel (grayscale)?\n",
    "labels = keras.utils.to_categorical(np.asarray(kept_labels))"
   ]
  },
  {
   "cell_type": "code",
   "execution_count": 248,
   "metadata": {},
   "outputs": [],
   "source": [
    "train_images, val_images, train_labels, val_labels = train_test_split(images, labels, test_size=0.2, random_state=42)\n",
    "datagen = keras.preprocessing.image.ImageDataGenerator(\n",
    "    rotation_range=20,\n",
    "    horizontal_flip=True,\n",
    ")"
   ]
  },
  {
   "cell_type": "code",
   "execution_count": 249,
   "metadata": {},
   "outputs": [],
   "source": [
    "datagen.fit(train_images)"
   ]
  },
  {
   "cell_type": "code",
   "execution_count": 250,
   "metadata": {},
   "outputs": [],
   "source": [
    "train_data_generator = datagen.flow(train_images, train_labels, batch_size=64, shuffle=True)\n",
    "val_data_generator = datagen.flow(val_images, val_labels, batch_size=64, shuffle=True)"
   ]
  },
  {
   "cell_type": "code",
   "execution_count": 251,
   "metadata": {},
   "outputs": [
    {
     "data": {
      "image/jpeg": "[encoded data removed]",
      "image/png": "[encoded data removed]",
      "text/plain": [
       "<PIL.Image.Image image mode=L size=47x62>"
      ]
     },
     "metadata": {},
     "output_type": "display_data"
    },
    {
     "name": "stdout",
     "output_type": "stream",
     "text": [
      "[0. 0. 1. 0. 0. 0. 0. 0. 0. 0. 0. 0.]\n"
     ]
    }
   ],
   "source": [
    "# display first image in val data batch and its label -- just for validation\n",
    "first_batch = next(val_data_generator)\n",
    "display(keras.preprocessing.image.array_to_img(first_batch[0][0] * 255))\n",
    "print(first_batch[1][0])\n",
    "\n",
    "val_data_generator = datagen.flow(val_images, val_labels, batch_size=64, shuffle=True) # reset val_data_generator"
   ]
  },
  {
   "cell_type": "code",
   "execution_count": 252,
   "metadata": {},
   "outputs": [],
   "source": [
    "# Xception model from https://keras.io/examples/vision/image_classification_from_scratch/#using-image-data-augmentation\n",
    "\n",
    "# def make_model(input_shape, num_classes):\n",
    "#     inputs = keras.Input(shape=input_shape)\n",
    "\n",
    "#     # Entry block\n",
    "#     x = layers.Rescaling(1.0 / 255)(inputs)\n",
    "#     x = layers.Conv2D(128, 3, strides=2, padding=\"same\")(x)\n",
    "#     x = layers.BatchNormalization()(x)\n",
    "#     x = layers.Activation(\"relu\")(x)\n",
    "\n",
    "#     previous_block_activation = x  # Set aside residual\n",
    "\n",
    "#     for size in [256, 512, 728]:\n",
    "#         x = layers.Activation(\"relu\")(x)\n",
    "#         x = layers.SeparableConv2D(size, 3, padding=\"same\")(x)\n",
    "#         x = layers.BatchNormalization()(x)\n",
    "\n",
    "#         x = layers.Activation(\"relu\")(x)\n",
    "#         x = layers.SeparableConv2D(size, 3, padding=\"same\")(x)\n",
    "#         x = layers.BatchNormalization()(x)\n",
    "\n",
    "#         x = layers.MaxPooling2D(3, strides=2, padding=\"same\")(x)\n",
    "\n",
    "#         # Project residual\n",
    "#         residual = layers.Conv2D(size, 1, strides=2, padding=\"same\")(\n",
    "#             previous_block_activation\n",
    "#         )\n",
    "#         x = layers.add([x, residual])  # Add back residual\n",
    "#         previous_block_activation = x  # Set aside next residual\n",
    "\n",
    "#     x = layers.SeparableConv2D(1024, 3, padding=\"same\")(x)\n",
    "#     x = layers.BatchNormalization()(x)\n",
    "#     x = layers.Activation(\"relu\")(x)\n",
    "\n",
    "#     x = layers.GlobalAveragePooling2D()(x)\n",
    "#     if num_classes == 2:\n",
    "#         activation = \"sigmoid\"\n",
    "#         units = 1\n",
    "#     else:\n",
    "#         activation = \"softmax\"\n",
    "#         units = num_classes\n",
    "\n",
    "#     x = layers.Dropout(0.5)(x)\n",
    "#     outputs = layers.Dense(units, activation=activation)(x)\n",
    "#     return keras.Model(inputs, outputs)\n",
    "\n",
    "\n",
    "# model = make_model(input_shape=IMAGE_SIZE + (1, ), num_classes=len(frequencies))\n",
    "\n",
    "input_shape = IMAGE_SIZE + (1, )\n",
    "num_classes = len(frequencies)\n",
    "\n",
    "model = keras.Sequential(\n",
    "    [\n",
    "        keras.Input(shape=input_shape),\n",
    "        layers.Conv2D(32, kernel_size=(3, 3), activation=\"relu\"),\n",
    "        layers.MaxPooling2D(pool_size=(2, 2)),\n",
    "        layers.Conv2D(64, kernel_size=(3, 3), activation=\"relu\"),\n",
    "        layers.MaxPooling2D(pool_size=(2, 2)),\n",
    "        layers.Flatten(),\n",
    "        layers.Dropout(0.5),\n",
    "        layers.Dense(num_classes, activation=\"softmax\"),\n",
    "    ]\n",
    ")"
   ]
  },
  {
   "cell_type": "code",
   "execution_count": 254,
   "metadata": {},
   "outputs": [
    {
     "data": {
      "text/plain": [
       "(64, 12)"
      ]
     },
     "execution_count": 254,
     "metadata": {},
     "output_type": "execute_result"
    }
   ],
   "source": [
    "next(train_data_generator)[1].shape"
   ]
  },
  {
   "cell_type": "code",
   "execution_count": 256,
   "metadata": {},
   "outputs": [
    {
     "name": "stdout",
     "output_type": "stream",
     "text": [
      "Epoch 1/25\n",
      "14/14 [==============================] - 1s 54ms/step - loss: 1.6479 - accuracy: 0.4680 - val_loss: 1.6503 - val_accuracy: 0.4864\n",
      "Epoch 2/25\n",
      "14/14 [==============================] - 1s 46ms/step - loss: 1.5537 - accuracy: 0.5057 - val_loss: 1.5308 - val_accuracy: 0.4818\n",
      "Epoch 3/25\n",
      "14/14 [==============================] - 1s 43ms/step - loss: 1.5335 - accuracy: 0.4932 - val_loss: 1.4799 - val_accuracy: 0.5455\n",
      "Epoch 4/25\n",
      "14/14 [==============================] - 1s 43ms/step - loss: 1.4358 - accuracy: 0.5342 - val_loss: 1.4244 - val_accuracy: 0.5727\n",
      "Epoch 5/25\n",
      "14/14 [==============================] - 1s 44ms/step - loss: 1.3984 - accuracy: 0.5365 - val_loss: 1.4506 - val_accuracy: 0.5545\n",
      "Epoch 6/25\n",
      "14/14 [==============================] - 1s 44ms/step - loss: 1.3628 - accuracy: 0.5468 - val_loss: 1.3801 - val_accuracy: 0.5318\n",
      "Epoch 7/25\n",
      "14/14 [==============================] - 1s 45ms/step - loss: 1.3399 - accuracy: 0.5468 - val_loss: 1.3330 - val_accuracy: 0.5773\n",
      "Epoch 8/25\n",
      "14/14 [==============================] - 1s 43ms/step - loss: 1.2704 - accuracy: 0.5947 - val_loss: 1.3033 - val_accuracy: 0.5682\n",
      "Epoch 9/25\n",
      "14/14 [==============================] - 1s 47ms/step - loss: 1.2396 - accuracy: 0.5970 - val_loss: 1.2055 - val_accuracy: 0.6273\n",
      "Epoch 10/25\n",
      "14/14 [==============================] - 1s 43ms/step - loss: 1.2080 - accuracy: 0.6096 - val_loss: 1.2717 - val_accuracy: 0.5864\n",
      "Epoch 11/25\n",
      "14/14 [==============================] - 1s 44ms/step - loss: 1.2345 - accuracy: 0.6233 - val_loss: 1.2362 - val_accuracy: 0.6091\n",
      "Epoch 12/25\n",
      "14/14 [==============================] - 1s 45ms/step - loss: 1.1424 - accuracy: 0.6324 - val_loss: 1.1871 - val_accuracy: 0.6227\n",
      "Epoch 13/25\n",
      "14/14 [==============================] - 1s 45ms/step - loss: 1.1183 - accuracy: 0.6518 - val_loss: 1.2534 - val_accuracy: 0.6000\n",
      "Epoch 14/25\n",
      "14/14 [==============================] - 1s 44ms/step - loss: 1.0847 - accuracy: 0.6598 - val_loss: 1.1114 - val_accuracy: 0.6818\n",
      "Epoch 15/25\n",
      "14/14 [==============================] - 1s 44ms/step - loss: 1.0666 - accuracy: 0.6610 - val_loss: 1.2267 - val_accuracy: 0.5909\n",
      "Epoch 16/25\n",
      "14/14 [==============================] - 1s 44ms/step - loss: 1.0442 - accuracy: 0.6724 - val_loss: 1.1243 - val_accuracy: 0.5955\n",
      "Epoch 17/25\n",
      "14/14 [==============================] - 1s 45ms/step - loss: 1.0419 - accuracy: 0.6678 - val_loss: 1.0544 - val_accuracy: 0.6636\n",
      "Epoch 18/25\n",
      "14/14 [==============================] - 1s 47ms/step - loss: 1.0326 - accuracy: 0.6655 - val_loss: 1.0983 - val_accuracy: 0.6682\n",
      "Epoch 19/25\n",
      "14/14 [==============================] - 1s 44ms/step - loss: 0.9672 - accuracy: 0.6906 - val_loss: 1.0764 - val_accuracy: 0.6636\n",
      "Epoch 20/25\n",
      "14/14 [==============================] - 1s 44ms/step - loss: 0.9900 - accuracy: 0.6849 - val_loss: 1.0785 - val_accuracy: 0.6727\n",
      "Epoch 21/25\n",
      "14/14 [==============================] - 1s 44ms/step - loss: 0.9806 - accuracy: 0.7158 - val_loss: 1.0430 - val_accuracy: 0.6545\n",
      "Epoch 22/25\n",
      "14/14 [==============================] - 1s 45ms/step - loss: 0.9549 - accuracy: 0.7055 - val_loss: 1.0446 - val_accuracy: 0.6955\n",
      "Epoch 23/25\n",
      "14/14 [==============================] - 1s 52ms/step - loss: 0.9495 - accuracy: 0.6929 - val_loss: 1.0465 - val_accuracy: 0.7000\n",
      "Epoch 24/25\n",
      "14/14 [==============================] - 1s 45ms/step - loss: 0.9171 - accuracy: 0.7009 - val_loss: 1.0322 - val_accuracy: 0.7227\n",
      "Epoch 25/25\n",
      "14/14 [==============================] - 1s 44ms/step - loss: 0.8994 - accuracy: 0.7237 - val_loss: 1.0203 - val_accuracy: 0.7045\n"
     ]
    },
    {
     "data": {
      "text/plain": [
       "<keras.src.callbacks.History at 0x2934aeac0>"
      ]
     },
     "execution_count": 256,
     "metadata": {},
     "output_type": "execute_result"
    }
   ],
   "source": [
    "epochs = 25\n",
    "\n",
    "callbacks = [\n",
    "    keras.callbacks.ModelCheckpoint(\"save_at_{epoch}.keras\"),\n",
    "]\n",
    "model.compile(\n",
    "    optimizer=keras.optimizers.legacy.Adam(1e-3), # legacy for m1 support\n",
    "    loss=\"categorical_crossentropy\",\n",
    "    metrics=[\"accuracy\"],\n",
    ")\n",
    "model.fit(\n",
    "    train_data_generator,\n",
    "    epochs=epochs,\n",
    "    callbacks=callbacks,\n",
    "    validation_data=val_data_generator,\n",
    ")"
   ]
  },
  {
   "cell_type": "code",
   "execution_count": null,
   "metadata": {},
   "outputs": [],
   "source": []
  }
 ],
 "metadata": {
  "kernelspec": {
   "display_name": "venv",
   "language": "python",
   "name": "python3"
  },
  "language_info": {
   "codemirror_mode": {
    "name": "ipython",
    "version": 3
   },
   "file_extension": ".py",
   "mimetype": "text/x-python",
   "name": "python",
   "nbconvert_exporter": "python",
   "pygments_lexer": "ipython3",
   "version": "3.9.7"
  }
 },
 "nbformat": 4,
 "nbformat_minor": 2
}
