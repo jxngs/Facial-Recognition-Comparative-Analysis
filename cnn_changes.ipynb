{
 "cells": [
  {
   "cell_type": "code",
   "execution_count": 1,
   "metadata": {},
   "outputs": [
    {
     "name": "stdout",
     "output_type": "stream",
     "text": [
      "WARNING:tensorflow:From C:\\Users\\cynth\\anaconda3\\Lib\\site-packages\\keras\\src\\losses.py:2976: The name tf.losses.sparse_softmax_cross_entropy is deprecated. Please use tf.compat.v1.losses.sparse_softmax_cross_entropy instead.\n",
      "\n"
     ]
    }
   ],
   "source": [
    "import numpy as np\n",
    "import tensorflow as tf\n",
    "import keras\n",
    "from tensorflow.keras import layers\n",
    "import os\n",
    "from sklearn.model_selection import train_test_split\n",
    "from filereader import FileReader"
   ]
  },
  {
   "cell_type": "code",
   "execution_count": 2,
   "metadata": {},
   "outputs": [],
   "source": [
    "IMAGE_SIZE = (100, 100) "
   ]
  },
  {
   "cell_type": "code",
   "execution_count": 3,
   "metadata": {},
   "outputs": [],
   "source": [
    "all_labels, all_images = FileReader.readFilesToVectors('./lfw-deepfunneled', 100, 150, 50)"
   ]
  },
  {
   "cell_type": "code",
   "execution_count": 4,
   "metadata": {},
   "outputs": [],
   "source": [
    "frequencies = {}\n",
    "frequencies = {name: all_labels.count(name) for name in all_labels}"
   ]
  },
  {
   "cell_type": "code",
   "execution_count": 5,
   "metadata": {},
   "outputs": [],
   "source": [
    "kept_images = []\n",
    "kept_labels = []\n",
    "\n",
    "for img, label in zip(all_images, all_labels):\n",
    "    if frequencies[label] > 50:\n",
    "        kept_images.append(img)\n",
    "        kept_labels.append(label)"
   ]
  },
  {
   "cell_type": "code",
   "execution_count": 6,
   "metadata": {},
   "outputs": [],
   "source": [
    "kept_images = np.array([np.resize(img, IMAGE_SIZE) for img in kept_images])"
   ]
  },
  {
   "cell_type": "code",
   "execution_count": 7,
   "metadata": {},
   "outputs": [
    {
     "data": {
      "image/png": "[encoded data removed]",
      "text/plain": [
       "<PIL.Image.Image image mode=L size=100x100>"
      ]
     },
     "metadata": {},
     "output_type": "display_data"
    }
   ],
   "source": [
    "first_image = kept_images[0]\n",
    "img = keras.preprocessing.image.array_to_img(np.expand_dims(first_image * 255, axis=-1))\n",
    "display(img)"
   ]
  },
  {
   "cell_type": "code",
   "execution_count": 8,
   "metadata": {},
   "outputs": [],
   "source": [
    "# remap labels from [0, N - 1]\n",
    "\n",
    "old_labels_to_new_labels = {}\n",
    "for label in kept_labels:\n",
    "    if label not in old_labels_to_new_labels:\n",
    "        old_labels_to_new_labels[label] = len(old_labels_to_new_labels)\n",
    "\n",
    "kept_labels = [old_labels_to_new_labels[label] for label in kept_labels]"
   ]
  },
  {
   "cell_type": "code",
   "execution_count": 9,
   "metadata": {},
   "outputs": [],
   "source": [
    "images = np.expand_dims(np.asarray(kept_images), axis=-1) # necessary to show there is 1 channel (grayscale)?\n",
    "labels = keras.utils.to_categorical(np.asarray(kept_labels))"
   ]
  },
  {
   "cell_type": "code",
   "execution_count": 10,
   "metadata": {},
   "outputs": [
    {
     "name": "stdout",
     "output_type": "stream",
     "text": [
      "[[1. 0. 0. ... 0. 0. 0.]\n",
      " [1. 0. 0. ... 0. 0. 0.]\n",
      " [1. 0. 0. ... 0. 0. 0.]\n",
      " ...\n",
      " [0. 0. 0. ... 0. 0. 1.]\n",
      " [0. 0. 0. ... 0. 0. 1.]\n",
      " [0. 0. 0. ... 0. 0. 1.]]\n"
     ]
    }
   ],
   "source": [
    "print(labels)"
   ]
  },
  {
   "cell_type": "code",
   "execution_count": 11,
   "metadata": {},
   "outputs": [],
   "source": [
    "train_images, val_images, train_labels, val_labels = train_test_split(images, labels, test_size=0.2, random_state=42)\n",
    "datagen = keras.preprocessing.image.ImageDataGenerator(\n",
    "    rotation_range=20,\n",
    "    horizontal_flip=True,\n",
    ")"
   ]
  },
  {
   "cell_type": "code",
   "execution_count": 12,
   "metadata": {},
   "outputs": [],
   "source": [
    "datagen.fit(train_images)"
   ]
  },
  {
   "cell_type": "code",
   "execution_count": 13,
   "metadata": {},
   "outputs": [],
   "source": [
    "train_data_generator = datagen.flow(train_images, train_labels, batch_size=64, shuffle=True)\n",
    "val_data_generator = datagen.flow(val_images, val_labels, batch_size=64, shuffle=True)"
   ]
  },
  {
   "cell_type": "code",
   "execution_count": 14,
   "metadata": {},
   "outputs": [
    {
     "data": {
      "image/png": "[encoded data removed]",
      "text/plain": [
       "<PIL.Image.Image image mode=L size=100x100>"
      ]
     },
     "metadata": {},
     "output_type": "display_data"
    },
    {
     "name": "stdout",
     "output_type": "stream",
     "text": [
      "[0. 0. 0. 1. 0. 0. 0. 0. 0. 0. 0. 0.]\n"
     ]
    }
   ],
   "source": [
    "# display first image in val data batch and its label -- just for validation\n",
    "first_batch = next(val_data_generator)\n",
    "display(keras.preprocessing.image.array_to_img(first_batch[0][0] * 255))\n",
    "print(first_batch[1][0])\n",
    "\n",
    "val_data_generator = datagen.flow(val_images, val_labels, batch_size=64, shuffle=True) # reset val_data_generator"
   ]
  },
  {
   "cell_type": "code",
   "execution_count": 15,
   "metadata": {},
   "outputs": [
    {
     "name": "stdout",
     "output_type": "stream",
     "text": [
      "WARNING:tensorflow:From C:\\Users\\cynth\\anaconda3\\Lib\\site-packages\\keras\\src\\backend.py:1398: The name tf.executing_eagerly_outside_functions is deprecated. Please use tf.compat.v1.executing_eagerly_outside_functions instead.\n",
      "\n",
      "WARNING:tensorflow:From C:\\Users\\cynth\\anaconda3\\Lib\\site-packages\\keras\\src\\layers\\pooling\\max_pooling2d.py:161: The name tf.nn.max_pool is deprecated. Please use tf.nn.max_pool2d instead.\n",
      "\n"
     ]
    }
   ],
   "source": [
    "# Xception model from https://keras.io/examples/vision/image_classification_from_scratch/#using-image-data-augmentation\n",
    "\n",
    "# def make_model(input_shape, num_classes):\n",
    "#     inputs = keras.Input(shape=input_shape)\n",
    "\n",
    "#     # Entry block\n",
    "#     x = layers.Rescaling(1.0 / 255)(inputs)\n",
    "#     x = layers.Conv2D(128, 3, strides=2, padding=\"same\")(x)\n",
    "#     x = layers.BatchNormalization()(x)\n",
    "#     x = layers.Activation(\"relu\")(x)\n",
    "\n",
    "#     previous_block_activation = x  # Set aside residual\n",
    "\n",
    "#     for size in [256, 512, 728]:\n",
    "#         x = layers.Activation(\"relu\")(x)\n",
    "#         x = layers.SeparableConv2D(size, 3, padding=\"same\")(x)\n",
    "#         x = layers.BatchNormalization()(x)\n",
    "\n",
    "#         x = layers.Activation(\"relu\")(x)\n",
    "#         x = layers.SeparableConv2D(size, 3, padding=\"same\")(x)\n",
    "#         x = layers.BatchNormalization()(x)\n",
    "\n",
    "#         x = layers.MaxPooling2D(3, strides=2, padding=\"same\")(x)\n",
    "\n",
    "#         # Project residual\n",
    "#         residual = layers.Conv2D(size, 1, strides=2, padding=\"same\")(\n",
    "#             previous_block_activation\n",
    "#         )\n",
    "#         x = layers.add([x, residual])  # Add back residual\n",
    "#         previous_block_activation = x  # Set aside next residual\n",
    "\n",
    "#     x = layers.SeparableConv2D(1024, 3, padding=\"same\")(x)\n",
    "#     x = layers.BatchNormalization()(x)\n",
    "#     x = layers.Activation(\"relu\")(x)\n",
    "\n",
    "#     x = layers.GlobalAveragePooling2D()(x)\n",
    "#     if num_classes == 2:\n",
    "#         activation = \"sigmoid\"\n",
    "#         units = 1\n",
    "#     else:\n",
    "#         activation = \"softmax\"\n",
    "#         units = num_classes\n",
    "\n",
    "#     x = layers.Dropout(0.5)(x)\n",
    "#     outputs = layers.Dense(units, activation=activation)(x)\n",
    "#     return keras.Model(inputs, outputs)\n",
    "\n",
    "\n",
    "# model = make_model(input_shape=IMAGE_SIZE + (1, ), num_classes=len(frequencies))\n",
    "\n",
    "input_shape = IMAGE_SIZE + (1, )\n",
    "num_classes = len(set(kept_labels))\n",
    "\n",
    "model = keras.Sequential(\n",
    "    [\n",
    "        keras.Input(shape=input_shape),\n",
    "        layers.Conv2D(32, kernel_size=(3, 3), activation=\"relu\"),\n",
    "        layers.MaxPooling2D(pool_size=(2, 2)),\n",
    "        layers.Conv2D(64, kernel_size=(3, 3), activation=\"relu\"),\n",
    "        layers.MaxPooling2D(pool_size=(2, 2)),\n",
    "        layers.Flatten(),\n",
    "        layers.Dropout(0.5),\n",
    "        layers.Dense(num_classes, activation=\"softmax\"),\n",
    "    ]\n",
    ")"
   ]
  },
  {
   "cell_type": "code",
   "execution_count": 16,
   "metadata": {},
   "outputs": [
    {
     "data": {
      "text/plain": [
       "(64, 12)"
      ]
     },
     "execution_count": 16,
     "metadata": {},
     "output_type": "execute_result"
    }
   ],
   "source": [
    "next(train_data_generator)[1].shape"
   ]
  },
  {
   "cell_type": "code",
   "execution_count": 17,
   "metadata": {},
   "outputs": [
    {
     "name": "stdout",
     "output_type": "stream",
     "text": [
      "Epoch 1/50\n",
      "WARNING:tensorflow:From C:\\Users\\cynth\\anaconda3\\Lib\\site-packages\\keras\\src\\utils\\tf_utils.py:492: The name tf.ragged.RaggedTensorValue is deprecated. Please use tf.compat.v1.ragged.RaggedTensorValue instead.\n",
      "\n",
      "WARNING:tensorflow:From C:\\Users\\cynth\\anaconda3\\Lib\\site-packages\\keras\\src\\engine\\base_layer_utils.py:384: The name tf.executing_eagerly_outside_functions is deprecated. Please use tf.compat.v1.executing_eagerly_outside_functions instead.\n",
      "\n",
      "14/14 [==============================] - 5s 309ms/step - loss: 43.4035 - accuracy: 0.1130 - val_loss: 2.4343 - val_accuracy: 0.2000\n",
      "Epoch 2/50\n",
      "14/14 [==============================] - 4s 277ms/step - loss: 2.4261 - accuracy: 0.1758 - val_loss: 2.4229 - val_accuracy: 0.1727\n",
      "Epoch 3/50\n",
      "14/14 [==============================] - 4s 276ms/step - loss: 2.3554 - accuracy: 0.1849 - val_loss: 2.3608 - val_accuracy: 0.2182\n",
      "Epoch 4/50\n",
      "14/14 [==============================] - 4s 272ms/step - loss: 2.3276 - accuracy: 0.2272 - val_loss: 2.3846 - val_accuracy: 0.2091\n",
      "Epoch 5/50\n",
      "14/14 [==============================] - 4s 272ms/step - loss: 2.3041 - accuracy: 0.2283 - val_loss: 2.1109 - val_accuracy: 0.2955\n",
      "Epoch 6/50\n",
      "14/14 [==============================] - 4s 273ms/step - loss: 2.1846 - accuracy: 0.2546 - val_loss: 2.0455 - val_accuracy: 0.2818\n",
      "Epoch 7/50\n",
      "14/14 [==============================] - 4s 286ms/step - loss: 2.0803 - accuracy: 0.2854 - val_loss: 2.2454 - val_accuracy: 0.2773\n",
      "Epoch 8/50\n",
      "14/14 [==============================] - 4s 277ms/step - loss: 2.0090 - accuracy: 0.3345 - val_loss: 1.8213 - val_accuracy: 0.3864\n",
      "Epoch 9/50\n",
      "14/14 [==============================] - 4s 275ms/step - loss: 1.8946 - accuracy: 0.3562 - val_loss: 1.7888 - val_accuracy: 0.3818\n",
      "Epoch 10/50\n",
      "14/14 [==============================] - 4s 273ms/step - loss: 1.8586 - accuracy: 0.3916 - val_loss: 1.8979 - val_accuracy: 0.3864\n",
      "Epoch 11/50\n",
      "14/14 [==============================] - 4s 273ms/step - loss: 1.7861 - accuracy: 0.4224 - val_loss: 1.7257 - val_accuracy: 0.4273\n",
      "Epoch 12/50\n",
      "14/14 [==============================] - 4s 274ms/step - loss: 1.6839 - accuracy: 0.4258 - val_loss: 1.8663 - val_accuracy: 0.3682\n",
      "Epoch 13/50\n",
      "14/14 [==============================] - 4s 274ms/step - loss: 1.6876 - accuracy: 0.4463 - val_loss: 1.5970 - val_accuracy: 0.5000\n",
      "Epoch 14/50\n",
      "14/14 [==============================] - 4s 302ms/step - loss: 1.6367 - accuracy: 0.4349 - val_loss: 1.6411 - val_accuracy: 0.4364\n",
      "Epoch 15/50\n",
      "14/14 [==============================] - 4s 300ms/step - loss: 1.5851 - accuracy: 0.4532 - val_loss: 1.6020 - val_accuracy: 0.4591\n",
      "Epoch 16/50\n",
      "14/14 [==============================] - 4s 270ms/step - loss: 1.5058 - accuracy: 0.4932 - val_loss: 1.5723 - val_accuracy: 0.4409\n",
      "Epoch 17/50\n",
      "14/14 [==============================] - 4s 278ms/step - loss: 1.5118 - accuracy: 0.5080 - val_loss: 1.5082 - val_accuracy: 0.5045\n",
      "Epoch 18/50\n",
      "14/14 [==============================] - 4s 273ms/step - loss: 1.4208 - accuracy: 0.5308 - val_loss: 1.5154 - val_accuracy: 0.5136\n",
      "Epoch 19/50\n",
      "14/14 [==============================] - 4s 273ms/step - loss: 1.3746 - accuracy: 0.5354 - val_loss: 1.5960 - val_accuracy: 0.4818\n",
      "Epoch 20/50\n",
      "14/14 [==============================] - 4s 288ms/step - loss: 1.4475 - accuracy: 0.5080 - val_loss: 1.5068 - val_accuracy: 0.5364\n",
      "Epoch 21/50\n",
      "14/14 [==============================] - 4s 281ms/step - loss: 1.3685 - accuracy: 0.5514 - val_loss: 1.6075 - val_accuracy: 0.4955\n",
      "Epoch 22/50\n",
      "14/14 [==============================] - 5s 373ms/step - loss: 1.4353 - accuracy: 0.5080 - val_loss: 1.6115 - val_accuracy: 0.4909\n",
      "Epoch 23/50\n",
      "14/14 [==============================] - 4s 278ms/step - loss: 1.3653 - accuracy: 0.5377 - val_loss: 1.5610 - val_accuracy: 0.4864\n",
      "Epoch 24/50\n",
      "14/14 [==============================] - 4s 281ms/step - loss: 1.3677 - accuracy: 0.5525 - val_loss: 1.5621 - val_accuracy: 0.5045\n",
      "Epoch 25/50\n",
      "14/14 [==============================] - 4s 280ms/step - loss: 1.3481 - accuracy: 0.5354 - val_loss: 1.4537 - val_accuracy: 0.5273\n",
      "Epoch 26/50\n",
      "14/14 [==============================] - 4s 255ms/step - loss: 1.3999 - accuracy: 0.5491 - val_loss: 1.3253 - val_accuracy: 0.5409\n",
      "Epoch 27/50\n",
      "14/14 [==============================] - 4s 263ms/step - loss: 1.2960 - accuracy: 0.5902 - val_loss: 1.4705 - val_accuracy: 0.5136\n",
      "Epoch 28/50\n",
      "14/14 [==============================] - 4s 267ms/step - loss: 1.3546 - accuracy: 0.5422 - val_loss: 1.7218 - val_accuracy: 0.4182\n",
      "Epoch 29/50\n",
      "14/14 [==============================] - 4s 259ms/step - loss: 1.3121 - accuracy: 0.5662 - val_loss: 1.3844 - val_accuracy: 0.5545\n",
      "Epoch 30/50\n",
      "14/14 [==============================] - 4s 265ms/step - loss: 1.2608 - accuracy: 0.5799 - val_loss: 1.4152 - val_accuracy: 0.5273\n",
      "Epoch 31/50\n",
      "14/14 [==============================] - 4s 264ms/step - loss: 1.2126 - accuracy: 0.5799 - val_loss: 1.3310 - val_accuracy: 0.5955\n",
      "Epoch 32/50\n",
      "14/14 [==============================] - 4s 267ms/step - loss: 1.3130 - accuracy: 0.5662 - val_loss: 1.3557 - val_accuracy: 0.6182\n",
      "Epoch 33/50\n",
      "14/14 [==============================] - 4s 278ms/step - loss: 1.2645 - accuracy: 0.5856 - val_loss: 1.3265 - val_accuracy: 0.5545\n",
      "Epoch 34/50\n",
      "14/14 [==============================] - 4s 265ms/step - loss: 1.2359 - accuracy: 0.5811 - val_loss: 1.6299 - val_accuracy: 0.5000\n",
      "Epoch 35/50\n",
      "14/14 [==============================] - 4s 279ms/step - loss: 1.3549 - accuracy: 0.5685 - val_loss: 1.3972 - val_accuracy: 0.5636\n",
      "Epoch 36/50\n",
      "14/14 [==============================] - 4s 289ms/step - loss: 1.2296 - accuracy: 0.5982 - val_loss: 1.6013 - val_accuracy: 0.4864\n",
      "Epoch 37/50\n",
      "14/14 [==============================] - 5s 323ms/step - loss: 1.2874 - accuracy: 0.5696 - val_loss: 1.5028 - val_accuracy: 0.5227\n",
      "Epoch 38/50\n",
      "14/14 [==============================] - 4s 301ms/step - loss: 1.2069 - accuracy: 0.5993 - val_loss: 1.4407 - val_accuracy: 0.5636\n",
      "Epoch 39/50\n",
      "14/14 [==============================] - 5s 359ms/step - loss: 1.1222 - accuracy: 0.6313 - val_loss: 1.2615 - val_accuracy: 0.5591\n",
      "Epoch 40/50\n",
      "14/14 [==============================] - 4s 286ms/step - loss: 1.1954 - accuracy: 0.6016 - val_loss: 1.3088 - val_accuracy: 0.6045\n",
      "Epoch 41/50\n",
      "14/14 [==============================] - 4s 303ms/step - loss: 1.1355 - accuracy: 0.6244 - val_loss: 1.3375 - val_accuracy: 0.5864\n",
      "Epoch 42/50\n",
      "14/14 [==============================] - 6s 414ms/step - loss: 1.0856 - accuracy: 0.6393 - val_loss: 1.3896 - val_accuracy: 0.5682\n",
      "Epoch 43/50\n",
      "14/14 [==============================] - 4s 290ms/step - loss: 1.0913 - accuracy: 0.6404 - val_loss: 1.2671 - val_accuracy: 0.6227\n",
      "Epoch 44/50\n",
      "14/14 [==============================] - 4s 289ms/step - loss: 1.0720 - accuracy: 0.6484 - val_loss: 1.2002 - val_accuracy: 0.6136\n",
      "Epoch 45/50\n",
      "14/14 [==============================] - 4s 300ms/step - loss: 1.0948 - accuracy: 0.6438 - val_loss: 1.4208 - val_accuracy: 0.5409\n",
      "Epoch 46/50\n",
      "14/14 [==============================] - 4s 284ms/step - loss: 1.1331 - accuracy: 0.5970 - val_loss: 1.2972 - val_accuracy: 0.6455\n",
      "Epoch 47/50\n",
      "14/14 [==============================] - 4s 295ms/step - loss: 1.0298 - accuracy: 0.6712 - val_loss: 1.5661 - val_accuracy: 0.4500\n",
      "Epoch 48/50\n",
      "14/14 [==============================] - 4s 287ms/step - loss: 1.0353 - accuracy: 0.6450 - val_loss: 1.3036 - val_accuracy: 0.5727\n",
      "Epoch 49/50\n",
      "14/14 [==============================] - 4s 285ms/step - loss: 0.8870 - accuracy: 0.7032 - val_loss: 1.2320 - val_accuracy: 0.5955\n",
      "Epoch 50/50\n",
      "14/14 [==============================] - 4s 286ms/step - loss: 0.9293 - accuracy: 0.6781 - val_loss: 1.1789 - val_accuracy: 0.6045\n"
     ]
    },
    {
     "data": {
      "text/plain": [
       "<keras.src.callbacks.History at 0x1ed2bb13710>"
      ]
     },
     "execution_count": 17,
     "metadata": {},
     "output_type": "execute_result"
    }
   ],
   "source": [
    "epochs = 50\n",
    "\n",
    "callbacks = [\n",
    "    keras.callbacks.ModelCheckpoint(\"save_at_{epoch}.keras\"),\n",
    "]\n",
    "model.compile(\n",
    "    optimizer=keras.optimizers.legacy.Adam(1e-3), # legacy for m1 support\n",
    "    loss=\"categorical_crossentropy\",\n",
    "    metrics=[\"accuracy\"],\n",
    ")\n",
    "model.fit(\n",
    "    train_data_generator,\n",
    "    epochs=epochs,\n",
    "    callbacks=callbacks,\n",
    "    validation_data=val_data_generator,\n",
    ")"
   ]
  },
  {
   "cell_type": "code",
   "execution_count": null,
   "metadata": {},
   "outputs": [],
   "source": []
  },
  {
   "cell_type": "code",
   "execution_count": null,
   "metadata": {},
   "outputs": [],
   "source": []
  },
  {
   "cell_type": "code",
   "execution_count": null,
   "metadata": {},
   "outputs": [],
   "source": []
  }
 ],
 "metadata": {
  "kernelspec": {
   "display_name": "Python 3 (ipykernel)",
   "language": "python",
   "name": "python3"
  },
  "language_info": {
   "codemirror_mode": {
    "name": "ipython",
    "version": 3
   },
   "file_extension": ".py",
   "mimetype": "text/x-python",
   "name": "python",
   "nbconvert_exporter": "python",
   "pygments_lexer": "ipython3",
   "version": "3.11.4"
  }
 },
 "nbformat": 4,
 "nbformat_minor": 2
}
