{
 "cells": [
  {
   "cell_type": "code",
   "execution_count": 18,
   "metadata": {},
   "outputs": [],
   "source": [
    "import numpy as np\n",
    "import tensorflow as tf\n",
    "import keras\n",
    "from tensorflow.keras import layers\n",
    "import os\n",
    "from sklearn.model_selection import train_test_split\n",
    "from filereader import FileReader"
   ]
  },
  {
   "cell_type": "code",
   "execution_count": 19,
   "metadata": {},
   "outputs": [],
   "source": [
    "IMAGE_SIZE = (100, 100) "
   ]
  },
  {
   "cell_type": "code",
   "execution_count": 20,
   "metadata": {},
   "outputs": [],
   "source": [
    "all_labels, all_images = FileReader.readFilesToVectors('./lfw-deepfunneled', 100, 150, 50)"
   ]
  },
  {
   "cell_type": "code",
   "execution_count": 21,
   "metadata": {},
   "outputs": [],
   "source": [
    "frequencies = {}\n",
    "frequencies = {name: all_labels.count(name) for name in all_labels}"
   ]
  },
  {
   "cell_type": "code",
   "execution_count": 22,
   "metadata": {},
   "outputs": [],
   "source": [
    "kept_images = []\n",
    "kept_labels = []\n",
    "\n",
    "for img, label in zip(all_images, all_labels):\n",
    "    if frequencies[label] > 50:\n",
    "        kept_images.append(img)\n",
    "        kept_labels.append(label)"
   ]
  },
  {
   "cell_type": "code",
   "execution_count": 23,
   "metadata": {},
   "outputs": [],
   "source": [
    "kept_images = np.array([np.resize(img, IMAGE_SIZE) for img in kept_images])"
   ]
  },
  {
   "cell_type": "code",
   "execution_count": 24,
   "metadata": {},
   "outputs": [
    {
     "data": {
      "image/png": "[encoded data removed]",
      "text/plain": [
       "<PIL.Image.Image image mode=L size=100x100>"
      ]
     },
     "metadata": {},
     "output_type": "display_data"
    }
   ],
   "source": [
    "first_image = kept_images[0]\n",
    "img = keras.preprocessing.image.array_to_img(np.expand_dims(first_image * 255, axis=-1))\n",
    "display(img)"
   ]
  },
  {
   "cell_type": "code",
   "execution_count": 25,
   "metadata": {},
   "outputs": [],
   "source": [
    "# remap labels from [0, N - 1]\n",
    "\n",
    "old_labels_to_new_labels = {}\n",
    "for label in kept_labels:\n",
    "    if label not in old_labels_to_new_labels:\n",
    "        old_labels_to_new_labels[label] = len(old_labels_to_new_labels)\n",
    "\n",
    "kept_labels = [old_labels_to_new_labels[label] for label in kept_labels]"
   ]
  },
  {
   "cell_type": "code",
   "execution_count": 26,
   "metadata": {},
   "outputs": [],
   "source": [
    "images = np.expand_dims(np.asarray(kept_images), axis=-1) # necessary to show there is 1 channel (grayscale)?\n",
    "labels = keras.utils.to_categorical(np.asarray(kept_labels))"
   ]
  },
  {
   "cell_type": "code",
   "execution_count": 27,
   "metadata": {},
   "outputs": [
    {
     "name": "stdout",
     "output_type": "stream",
     "text": [
      "[[1. 0. 0. ... 0. 0. 0.]\n",
      " [1. 0. 0. ... 0. 0. 0.]\n",
      " [1. 0. 0. ... 0. 0. 0.]\n",
      " ...\n",
      " [0. 0. 0. ... 0. 0. 1.]\n",
      " [0. 0. 0. ... 0. 0. 1.]\n",
      " [0. 0. 0. ... 0. 0. 1.]]\n"
     ]
    }
   ],
   "source": [
    "print(labels)"
   ]
  },
  {
   "cell_type": "code",
   "execution_count": 28,
   "metadata": {},
   "outputs": [],
   "source": [
    "train_images, val_images, train_labels, val_labels = train_test_split(images, labels, test_size=0.2, random_state=42)\n",
    "datagen = keras.preprocessing.image.ImageDataGenerator(\n",
    "    rotation_range=20,\n",
    "    horizontal_flip=True,\n",
    ")"
   ]
  },
  {
   "cell_type": "code",
   "execution_count": 29,
   "metadata": {},
   "outputs": [],
   "source": [
    "datagen.fit(train_images)"
   ]
  },
  {
   "cell_type": "code",
   "execution_count": 30,
   "metadata": {},
   "outputs": [],
   "source": [
    "train_data_generator = datagen.flow(train_images, train_labels, batch_size=64, shuffle=True)\n",
    "val_data_generator = datagen.flow(val_images, val_labels, batch_size=64, shuffle=True)"
   ]
  },
  {
   "cell_type": "code",
   "execution_count": 31,
   "metadata": {},
   "outputs": [
    {
     "data": {
      "image/png": "[encoded data removed]",
      "text/plain": [
       "<PIL.Image.Image image mode=L size=100x100>"
      ]
     },
     "metadata": {},
     "output_type": "display_data"
    },
    {
     "name": "stdout",
     "output_type": "stream",
     "text": [
      "[0. 0. 0. 0. 0. 0. 0. 0. 0. 0. 0. 1.]\n"
     ]
    }
   ],
   "source": [
    "# display first image in val data batch and its label -- just for validation\n",
    "first_batch = next(val_data_generator)\n",
    "display(keras.preprocessing.image.array_to_img(first_batch[0][0] * 255))\n",
    "print(first_batch[1][0])\n",
    "\n",
    "val_data_generator = datagen.flow(val_images, val_labels, batch_size=64, shuffle=True) # reset val_data_generator"
   ]
  },
  {
   "cell_type": "code",
   "execution_count": 32,
   "metadata": {},
   "outputs": [],
   "source": [
    "# Xception model from https://keras.io/examples/vision/image_classification_from_scratch/#using-image-data-augmentation\n",
    "\n",
    "# def make_model(input_shape, num_classes):\n",
    "#     inputs = keras.Input(shape=input_shape)\n",
    "\n",
    "#     # Entry block\n",
    "#     x = layers.Rescaling(1.0 / 255)(inputs)\n",
    "#     x = layers.Conv2D(128, 3, strides=2, padding=\"same\")(x)\n",
    "#     x = layers.BatchNormalization()(x)\n",
    "#     x = layers.Activation(\"relu\")(x)\n",
    "\n",
    "#     previous_block_activation = x  # Set aside residual\n",
    "\n",
    "#     for size in [256, 512, 728]:\n",
    "#         x = layers.Activation(\"relu\")(x)\n",
    "#         x = layers.SeparableConv2D(size, 3, padding=\"same\")(x)\n",
    "#         x = layers.BatchNormalization()(x)\n",
    "\n",
    "#         x = layers.Activation(\"relu\")(x)\n",
    "#         x = layers.SeparableConv2D(size, 3, padding=\"same\")(x)\n",
    "#         x = layers.BatchNormalization()(x)\n",
    "\n",
    "#         x = layers.MaxPooling2D(3, strides=2, padding=\"same\")(x)\n",
    "\n",
    "#         # Project residual\n",
    "#         residual = layers.Conv2D(size, 1, strides=2, padding=\"same\")(\n",
    "#             previous_block_activation\n",
    "#         )\n",
    "#         x = layers.add([x, residual])  # Add back residual\n",
    "#         previous_block_activation = x  # Set aside next residual\n",
    "\n",
    "#     x = layers.SeparableConv2D(1024, 3, padding=\"same\")(x)\n",
    "#     x = layers.BatchNormalization()(x)\n",
    "#     x = layers.Activation(\"relu\")(x)\n",
    "\n",
    "#     x = layers.GlobalAveragePooling2D()(x)\n",
    "#     if num_classes == 2:\n",
    "#         activation = \"sigmoid\"\n",
    "#         units = 1\n",
    "#     else:\n",
    "#         activation = \"softmax\"\n",
    "#         units = num_classes\n",
    "\n",
    "#     x = layers.Dropout(0.5)(x)\n",
    "#     outputs = layers.Dense(units, activation=activation)(x)\n",
    "#     return keras.Model(inputs, outputs)\n",
    "\n",
    "\n",
    "# model = make_model(input_shape=IMAGE_SIZE + (1, ), num_classes=len(frequencies))\n",
    "\n",
    "input_shape = IMAGE_SIZE + (1, )\n",
    "num_classes = len(set(kept_labels))\n",
    "\n",
    "model = keras.Sequential(\n",
    "    [\n",
    "        keras.Input(shape=input_shape),\n",
    "        layers.Conv2D(32, kernel_size=(3, 3), activation=\"relu\"),\n",
    "        layers.MaxPooling2D(pool_size=(2, 2)),\n",
    "        layers.Conv2D(64, kernel_size=(3, 3), activation=\"relu\"),\n",
    "        layers.MaxPooling2D(pool_size=(2, 2)),\n",
    "        layers.Flatten(),\n",
    "        layers.Dropout(0.5),\n",
    "        layers.Dense(num_classes, activation=\"softmax\"),\n",
    "    ]\n",
    ")"
   ]
  },
  {
   "cell_type": "code",
   "execution_count": 33,
   "metadata": {},
   "outputs": [
    {
     "data": {
      "text/plain": [
       "(64, 12)"
      ]
     },
     "execution_count": 33,
     "metadata": {},
     "output_type": "execute_result"
    }
   ],
   "source": [
    "next(train_data_generator)[1].shape"
   ]
  },
  {
   "cell_type": "code",
   "execution_count": 34,
   "metadata": {},
   "outputs": [
    {
     "name": "stdout",
     "output_type": "stream",
     "text": [
      "Epoch 1/50\n",
      "14/14 [==============================] - 7s 445ms/step - loss: 93.0228 - accuracy: 0.0959 - val_loss: 2.8427 - val_accuracy: 0.1182\n",
      "Epoch 2/50\n",
      "14/14 [==============================] - 5s 346ms/step - loss: 2.4827 - accuracy: 0.1781 - val_loss: 2.4142 - val_accuracy: 0.1364\n",
      "Epoch 3/50\n",
      "14/14 [==============================] - 5s 344ms/step - loss: 2.4153 - accuracy: 0.1815 - val_loss: 2.3847 - val_accuracy: 0.1409\n",
      "Epoch 4/50\n",
      "14/14 [==============================] - 4s 299ms/step - loss: 2.3769 - accuracy: 0.2032 - val_loss: 2.4216 - val_accuracy: 0.1318\n",
      "Epoch 5/50\n",
      "14/14 [==============================] - 4s 283ms/step - loss: 2.3445 - accuracy: 0.2066 - val_loss: 2.4000 - val_accuracy: 0.1682\n",
      "Epoch 6/50\n",
      "14/14 [==============================] - 4s 278ms/step - loss: 2.2968 - accuracy: 0.2317 - val_loss: 2.3324 - val_accuracy: 0.1773\n",
      "Epoch 7/50\n",
      "14/14 [==============================] - 4s 277ms/step - loss: 2.2288 - accuracy: 0.2352 - val_loss: 2.3123 - val_accuracy: 0.1864\n",
      "Epoch 8/50\n",
      "14/14 [==============================] - 4s 277ms/step - loss: 2.1597 - accuracy: 0.2523 - val_loss: 2.1930 - val_accuracy: 0.2318\n",
      "Epoch 9/50\n",
      "14/14 [==============================] - 4s 278ms/step - loss: 2.0681 - accuracy: 0.3002 - val_loss: 2.1053 - val_accuracy: 0.3273\n",
      "Epoch 10/50\n",
      "14/14 [==============================] - 4s 279ms/step - loss: 1.9417 - accuracy: 0.3573 - val_loss: 1.8749 - val_accuracy: 0.3727\n",
      "Epoch 11/50\n",
      "14/14 [==============================] - 4s 272ms/step - loss: 1.7317 - accuracy: 0.4247 - val_loss: 1.7764 - val_accuracy: 0.4000\n",
      "Epoch 12/50\n",
      "14/14 [==============================] - 4s 275ms/step - loss: 1.5334 - accuracy: 0.4783 - val_loss: 1.6582 - val_accuracy: 0.4409\n",
      "Epoch 13/50\n",
      "14/14 [==============================] - 4s 272ms/step - loss: 1.5081 - accuracy: 0.4795 - val_loss: 1.5814 - val_accuracy: 0.4682\n",
      "Epoch 14/50\n",
      "14/14 [==============================] - 4s 275ms/step - loss: 1.3945 - accuracy: 0.5320 - val_loss: 1.4506 - val_accuracy: 0.5409\n",
      "Epoch 15/50\n",
      "14/14 [==============================] - 4s 275ms/step - loss: 1.2951 - accuracy: 0.5674 - val_loss: 1.4516 - val_accuracy: 0.5636\n",
      "Epoch 16/50\n",
      "14/14 [==============================] - 4s 274ms/step - loss: 1.3009 - accuracy: 0.5616 - val_loss: 1.2280 - val_accuracy: 0.5955\n",
      "Epoch 17/50\n",
      "14/14 [==============================] - 4s 277ms/step - loss: 1.2630 - accuracy: 0.5685 - val_loss: 1.4174 - val_accuracy: 0.5136\n",
      "Epoch 18/50\n",
      "14/14 [==============================] - 4s 275ms/step - loss: 1.2620 - accuracy: 0.5776 - val_loss: 1.2475 - val_accuracy: 0.6091\n",
      "Epoch 19/50\n",
      "14/14 [==============================] - 4s 273ms/step - loss: 1.1510 - accuracy: 0.6084 - val_loss: 1.1597 - val_accuracy: 0.6500\n",
      "Epoch 20/50\n",
      "14/14 [==============================] - 4s 280ms/step - loss: 1.1379 - accuracy: 0.6290 - val_loss: 1.3032 - val_accuracy: 0.6455\n",
      "Epoch 21/50\n",
      "14/14 [==============================] - 4s 274ms/step - loss: 1.0666 - accuracy: 0.6438 - val_loss: 1.4056 - val_accuracy: 0.5591\n",
      "Epoch 22/50\n",
      "14/14 [==============================] - 4s 275ms/step - loss: 1.1664 - accuracy: 0.6381 - val_loss: 1.3325 - val_accuracy: 0.5909\n",
      "Epoch 23/50\n",
      "14/14 [==============================] - 4s 273ms/step - loss: 1.0389 - accuracy: 0.6518 - val_loss: 1.1555 - val_accuracy: 0.6409\n",
      "Epoch 24/50\n",
      "14/14 [==============================] - 4s 277ms/step - loss: 0.9924 - accuracy: 0.6838 - val_loss: 1.2758 - val_accuracy: 0.5773\n",
      "Epoch 25/50\n",
      "14/14 [==============================] - 4s 280ms/step - loss: 1.0371 - accuracy: 0.6484 - val_loss: 1.2720 - val_accuracy: 0.6000\n",
      "Epoch 26/50\n",
      "14/14 [==============================] - 4s 280ms/step - loss: 0.9917 - accuracy: 0.6575 - val_loss: 1.2111 - val_accuracy: 0.6500\n",
      "Epoch 27/50\n",
      "14/14 [==============================] - 4s 274ms/step - loss: 0.9958 - accuracy: 0.6507 - val_loss: 1.2816 - val_accuracy: 0.5864\n",
      "Epoch 28/50\n",
      "14/14 [==============================] - 4s 285ms/step - loss: 0.9956 - accuracy: 0.6724 - val_loss: 1.1496 - val_accuracy: 0.6727\n",
      "Epoch 29/50\n",
      "14/14 [==============================] - 4s 285ms/step - loss: 0.9539 - accuracy: 0.6838 - val_loss: 0.9820 - val_accuracy: 0.7000\n",
      "Epoch 30/50\n",
      "14/14 [==============================] - 4s 282ms/step - loss: 0.8801 - accuracy: 0.7169 - val_loss: 1.0523 - val_accuracy: 0.7091\n",
      "Epoch 31/50\n",
      "14/14 [==============================] - 4s 272ms/step - loss: 0.8941 - accuracy: 0.6952 - val_loss: 0.9698 - val_accuracy: 0.7000\n",
      "Epoch 32/50\n",
      "14/14 [==============================] - 4s 274ms/step - loss: 0.8540 - accuracy: 0.7135 - val_loss: 1.0854 - val_accuracy: 0.6591\n",
      "Epoch 33/50\n",
      "14/14 [==============================] - 4s 276ms/step - loss: 0.9145 - accuracy: 0.6872 - val_loss: 1.1055 - val_accuracy: 0.6682\n",
      "Epoch 34/50\n",
      "14/14 [==============================] - 4s 280ms/step - loss: 0.7758 - accuracy: 0.7523 - val_loss: 1.0975 - val_accuracy: 0.6727\n",
      "Epoch 35/50\n",
      "14/14 [==============================] - 4s 285ms/step - loss: 0.7597 - accuracy: 0.7454 - val_loss: 1.0213 - val_accuracy: 0.6682\n",
      "Epoch 36/50\n",
      "14/14 [==============================] - 4s 297ms/step - loss: 0.7690 - accuracy: 0.7409 - val_loss: 1.2001 - val_accuracy: 0.6227\n",
      "Epoch 37/50\n",
      "14/14 [==============================] - 4s 282ms/step - loss: 0.9399 - accuracy: 0.6963 - val_loss: 1.3497 - val_accuracy: 0.5682\n",
      "Epoch 38/50\n",
      "14/14 [==============================] - 4s 275ms/step - loss: 0.7734 - accuracy: 0.7329 - val_loss: 1.0920 - val_accuracy: 0.6773\n",
      "Epoch 39/50\n",
      "14/14 [==============================] - 4s 291ms/step - loss: 0.7546 - accuracy: 0.7477 - val_loss: 1.0746 - val_accuracy: 0.6545\n",
      "Epoch 40/50\n",
      "14/14 [==============================] - 4s 261ms/step - loss: 0.7792 - accuracy: 0.7317 - val_loss: 1.0182 - val_accuracy: 0.7091\n",
      "Epoch 41/50\n",
      "14/14 [==============================] - 4s 265ms/step - loss: 0.7656 - accuracy: 0.7694 - val_loss: 0.9853 - val_accuracy: 0.7045\n",
      "Epoch 42/50\n",
      "14/14 [==============================] - 4s 290ms/step - loss: 0.7292 - accuracy: 0.7591 - val_loss: 1.2011 - val_accuracy: 0.6136\n",
      "Epoch 43/50\n",
      "14/14 [==============================] - 5s 353ms/step - loss: 0.8437 - accuracy: 0.7260 - val_loss: 0.9248 - val_accuracy: 0.7409\n",
      "Epoch 44/50\n",
      "14/14 [==============================] - 4s 284ms/step - loss: 0.7131 - accuracy: 0.7717 - val_loss: 0.9674 - val_accuracy: 0.6909\n",
      "Epoch 45/50\n",
      "14/14 [==============================] - 4s 279ms/step - loss: 0.6763 - accuracy: 0.7797 - val_loss: 1.0640 - val_accuracy: 0.7091\n",
      "Epoch 46/50\n",
      "14/14 [==============================] - 4s 258ms/step - loss: 0.5991 - accuracy: 0.8048 - val_loss: 1.0771 - val_accuracy: 0.7091\n",
      "Epoch 47/50\n",
      "14/14 [==============================] - 4s 273ms/step - loss: 0.6785 - accuracy: 0.7831 - val_loss: 0.9351 - val_accuracy: 0.6591\n",
      "Epoch 48/50\n",
      "14/14 [==============================] - 4s 294ms/step - loss: 0.6500 - accuracy: 0.7763 - val_loss: 1.0102 - val_accuracy: 0.6909\n",
      "Epoch 49/50\n",
      "14/14 [==============================] - 4s 265ms/step - loss: 0.6251 - accuracy: 0.7900 - val_loss: 1.0741 - val_accuracy: 0.6682\n",
      "Epoch 50/50\n",
      "14/14 [==============================] - 4s 275ms/step - loss: 0.6450 - accuracy: 0.7763 - val_loss: 0.8794 - val_accuracy: 0.7500\n"
     ]
    },
    {
     "data": {
      "text/plain": [
       "<keras.src.callbacks.History at 0x1ed4533f010>"
      ]
     },
     "execution_count": 34,
     "metadata": {},
     "output_type": "execute_result"
    }
   ],
   "source": [
    "epochs = 50\n",
    "\n",
    "callbacks = [\n",
    "    keras.callbacks.ModelCheckpoint(\"save_at_{epoch}.keras\"),\n",
    "]\n",
    "model.compile(\n",
    "    optimizer=keras.optimizers.legacy.Adam(1e-3), # legacy for m1 support\n",
    "    loss=\"categorical_crossentropy\",\n",
    "    metrics=[\"accuracy\"],\n",
    ")\n",
    "model.fit(\n",
    "    train_data_generator,\n",
    "    epochs=epochs,\n",
    "    callbacks=callbacks,\n",
    "    validation_data=val_data_generator,\n",
    ")"
   ]
  },
  {
   "cell_type": "code",
   "execution_count": null,
   "metadata": {},
   "outputs": [],
   "source": []
  },
  {
   "cell_type": "code",
   "execution_count": null,
   "metadata": {},
   "outputs": [],
   "source": []
  },
  {
   "cell_type": "code",
   "execution_count": null,
   "metadata": {},
   "outputs": [],
   "source": []
  }
 ],
 "metadata": {
  "kernelspec": {
   "display_name": "Python 3 (ipykernel)",
   "language": "python",
   "name": "python3"
  },
  "language_info": {
   "codemirror_mode": {
    "name": "ipython",
    "version": 3
   },
   "file_extension": ".py",
   "mimetype": "text/x-python",
   "name": "python",
   "nbconvert_exporter": "python",
   "pygments_lexer": "ipython3",
   "version": "3.11.4"
  }
 },
 "nbformat": 4,
 "nbformat_minor": 2
}
