{
 "cells": [
  {
   "cell_type": "code",
   "execution_count": 1,
   "metadata": {},
   "outputs": [],
   "source": [
    "import numpy as np\n",
    "import tensorflow as tf\n",
    "import keras\n",
    "from tensorflow.keras import layers\n",
    "import os\n",
    "from sklearn.model_selection import train_test_split\n",
    "from filereader import FileReader"
   ]
  },
  {
   "cell_type": "code",
   "execution_count": 71,
   "metadata": {},
   "outputs": [],
   "source": [
    "IMAGE_SIZE = (100, 100) "
   ]
  },
  {
   "cell_type": "code",
   "execution_count": 72,
   "metadata": {},
   "outputs": [],
   "source": [
    "all_labels, all_images = FileReader.readFilesToVectors('./lfw-deepfunneled', 100, 150)"
   ]
  },
  {
   "cell_type": "code",
   "execution_count": 73,
   "metadata": {},
   "outputs": [],
   "source": [
    "frequencies = {}\n",
    "frequencies = {name: all_labels.count(name) for name in all_labels}"
   ]
  },
  {
   "cell_type": "code",
   "execution_count": 74,
   "metadata": {},
   "outputs": [],
   "source": [
    "kept_images = []\n",
    "kept_labels = []\n",
    "\n",
    "for img, label in zip(all_images, all_labels):\n",
    "    if frequencies[label] > 50:\n",
    "        kept_images.append(img)\n",
    "        kept_labels.append(label)"
   ]
  },
  {
   "cell_type": "code",
   "execution_count": 75,
   "metadata": {},
   "outputs": [],
   "source": [
    "kept_images = np.array([np.resize(img, IMAGE_SIZE) for img in kept_images])"
   ]
  },
  {
   "cell_type": "code",
   "execution_count": 76,
   "metadata": {},
   "outputs": [
    {
     "data": {
      "image/jpeg": "[encoded data removed]",
      "image/png": "[encoded data removed]",
      "text/plain": [
       "<PIL.Image.Image image mode=L size=100x100>"
      ]
     },
     "metadata": {},
     "output_type": "display_data"
    }
   ],
   "source": [
    "first_image = kept_images[0]\n",
    "img = keras.preprocessing.image.array_to_img(np.expand_dims(first_image * 255, axis=-1))\n",
    "display(img)"
   ]
  },
  {
   "cell_type": "code",
   "execution_count": 77,
   "metadata": {},
   "outputs": [],
   "source": [
    "# remap labels from [0, N - 1]\n",
    "\n",
    "old_labels_to_new_labels = {}\n",
    "for label in kept_labels:\n",
    "    if label not in old_labels_to_new_labels:\n",
    "        old_labels_to_new_labels[label] = len(old_labels_to_new_labels)\n",
    "\n",
    "kept_labels = [old_labels_to_new_labels[label] for label in kept_labels]"
   ]
  },
  {
   "cell_type": "code",
   "execution_count": 78,
   "metadata": {},
   "outputs": [],
   "source": [
    "images = np.expand_dims(np.asarray(kept_images), axis=-1) # necessary to show there is 1 channel (grayscale)?\n",
    "labels = keras.utils.to_categorical(np.asarray(kept_labels))"
   ]
  },
  {
   "cell_type": "code",
   "execution_count": 79,
   "metadata": {},
   "outputs": [
    {
     "name": "stdout",
     "output_type": "stream",
     "text": [
      "[[1. 0. 0. ... 0. 0. 0.]\n",
      " [1. 0. 0. ... 0. 0. 0.]\n",
      " [1. 0. 0. ... 0. 0. 0.]\n",
      " ...\n",
      " [0. 0. 0. ... 0. 0. 1.]\n",
      " [0. 0. 0. ... 0. 0. 1.]\n",
      " [0. 0. 0. ... 0. 0. 1.]]\n"
     ]
    }
   ],
   "source": [
    "print(labels)"
   ]
  },
  {
   "cell_type": "code",
   "execution_count": 80,
   "metadata": {},
   "outputs": [],
   "source": [
    "train_images, val_images, train_labels, val_labels = train_test_split(images, labels, test_size=0.2, random_state=42)\n",
    "datagen = keras.preprocessing.image.ImageDataGenerator(\n",
    "    rotation_range=20,\n",
    "    horizontal_flip=True,\n",
    ")"
   ]
  },
  {
   "cell_type": "code",
   "execution_count": 81,
   "metadata": {},
   "outputs": [],
   "source": [
    "datagen.fit(train_images)"
   ]
  },
  {
   "cell_type": "code",
   "execution_count": 82,
   "metadata": {},
   "outputs": [],
   "source": [
    "train_data_generator = datagen.flow(train_images, train_labels, batch_size=64, shuffle=True)\n",
    "val_data_generator = datagen.flow(val_images, val_labels, batch_size=64, shuffle=True)"
   ]
  },
  {
   "cell_type": "code",
   "execution_count": 83,
   "metadata": {},
   "outputs": [
    {
     "data": {
      "image/jpeg": "[encoded data removed]",
      "image/png": "[encoded data removed]",
      "text/plain": [
       "<PIL.Image.Image image mode=L size=100x100>"
      ]
     },
     "metadata": {},
     "output_type": "display_data"
    },
    {
     "name": "stdout",
     "output_type": "stream",
     "text": [
      "[0. 0. 0. 0. 0. 0. 0. 0. 0. 1. 0. 0.]\n"
     ]
    }
   ],
   "source": [
    "# display first image in val data batch and its label -- just for validation\n",
    "first_batch = next(val_data_generator)\n",
    "display(keras.preprocessing.image.array_to_img(first_batch[0][0] * 255))\n",
    "print(first_batch[1][0])\n",
    "\n",
    "val_data_generator = datagen.flow(val_images, val_labels, batch_size=64, shuffle=True) # reset val_data_generator"
   ]
  },
  {
   "cell_type": "code",
   "execution_count": 84,
   "metadata": {},
   "outputs": [],
   "source": [
    "# Xception model from https://keras.io/examples/vision/image_classification_from_scratch/#using-image-data-augmentation\n",
    "\n",
    "# def make_model(input_shape, num_classes):\n",
    "#     inputs = keras.Input(shape=input_shape)\n",
    "\n",
    "#     # Entry block\n",
    "#     x = layers.Rescaling(1.0 / 255)(inputs)\n",
    "#     x = layers.Conv2D(128, 3, strides=2, padding=\"same\")(x)\n",
    "#     x = layers.BatchNormalization()(x)\n",
    "#     x = layers.Activation(\"relu\")(x)\n",
    "\n",
    "#     previous_block_activation = x  # Set aside residual\n",
    "\n",
    "#     for size in [256, 512, 728]:\n",
    "#         x = layers.Activation(\"relu\")(x)\n",
    "#         x = layers.SeparableConv2D(size, 3, padding=\"same\")(x)\n",
    "#         x = layers.BatchNormalization()(x)\n",
    "\n",
    "#         x = layers.Activation(\"relu\")(x)\n",
    "#         x = layers.SeparableConv2D(size, 3, padding=\"same\")(x)\n",
    "#         x = layers.BatchNormalization()(x)\n",
    "\n",
    "#         x = layers.MaxPooling2D(3, strides=2, padding=\"same\")(x)\n",
    "\n",
    "#         # Project residual\n",
    "#         residual = layers.Conv2D(size, 1, strides=2, padding=\"same\")(\n",
    "#             previous_block_activation\n",
    "#         )\n",
    "#         x = layers.add([x, residual])  # Add back residual\n",
    "#         previous_block_activation = x  # Set aside next residual\n",
    "\n",
    "#     x = layers.SeparableConv2D(1024, 3, padding=\"same\")(x)\n",
    "#     x = layers.BatchNormalization()(x)\n",
    "#     x = layers.Activation(\"relu\")(x)\n",
    "\n",
    "#     x = layers.GlobalAveragePooling2D()(x)\n",
    "#     if num_classes == 2:\n",
    "#         activation = \"sigmoid\"\n",
    "#         units = 1\n",
    "#     else:\n",
    "#         activation = \"softmax\"\n",
    "#         units = num_classes\n",
    "\n",
    "#     x = layers.Dropout(0.5)(x)\n",
    "#     outputs = layers.Dense(units, activation=activation)(x)\n",
    "#     return keras.Model(inputs, outputs)\n",
    "\n",
    "\n",
    "# model = make_model(input_shape=IMAGE_SIZE + (1, ), num_classes=len(frequencies))\n",
    "\n",
    "input_shape = IMAGE_SIZE + (1, )\n",
    "num_classes = len(set(kept_labels))\n",
    "\n",
    "model = keras.Sequential(\n",
    "    [\n",
    "        keras.Input(shape=input_shape),\n",
    "        layers.Conv2D(32, kernel_size=(3, 3), activation=\"relu\"),\n",
    "        layers.MaxPooling2D(pool_size=(2, 2)),\n",
    "        layers.Conv2D(64, kernel_size=(3, 3), activation=\"relu\"),\n",
    "        layers.MaxPooling2D(pool_size=(2, 2)),\n",
    "        layers.Flatten(),\n",
    "        layers.Dropout(0.5),\n",
    "        layers.Dense(num_classes, activation=\"softmax\"),\n",
    "    ]\n",
    ")"
   ]
  },
  {
   "cell_type": "code",
   "execution_count": 85,
   "metadata": {},
   "outputs": [
    {
     "data": {
      "text/plain": [
       "(64, 12)"
      ]
     },
     "execution_count": 85,
     "metadata": {},
     "output_type": "execute_result"
    }
   ],
   "source": [
    "next(train_data_generator)[1].shape"
   ]
  },
  {
   "cell_type": "code",
   "execution_count": 87,
   "metadata": {},
   "outputs": [
    {
     "name": "stdout",
     "output_type": "stream",
     "text": [
      "Epoch 1/50\n",
      "14/14 [==============================] - 5s 341ms/step - loss: 2.2673 - accuracy: 0.2443 - val_loss: 2.2727 - val_accuracy: 0.2545\n",
      "Epoch 2/50\n",
      "14/14 [==============================] - 4s 306ms/step - loss: 2.1724 - accuracy: 0.2489 - val_loss: 2.2340 - val_accuracy: 0.2455\n",
      "Epoch 3/50\n",
      "14/14 [==============================] - 4s 305ms/step - loss: 2.1614 - accuracy: 0.2546 - val_loss: 2.2415 - val_accuracy: 0.2409\n",
      "Epoch 4/50\n",
      "14/14 [==============================] - 4s 268ms/step - loss: 2.1414 - accuracy: 0.2797 - val_loss: 2.1628 - val_accuracy: 0.2773\n",
      "Epoch 5/50\n",
      "14/14 [==============================] - 4s 262ms/step - loss: 2.0487 - accuracy: 0.3059 - val_loss: 2.0219 - val_accuracy: 0.3409\n",
      "Epoch 6/50\n",
      "14/14 [==============================] - 4s 262ms/step - loss: 2.0189 - accuracy: 0.3128 - val_loss: 2.1105 - val_accuracy: 0.3227\n",
      "Epoch 7/50\n",
      "14/14 [==============================] - 4s 265ms/step - loss: 1.8954 - accuracy: 0.3527 - val_loss: 2.0034 - val_accuracy: 0.3318\n",
      "Epoch 8/50\n",
      "14/14 [==============================] - 4s 261ms/step - loss: 1.7833 - accuracy: 0.4053 - val_loss: 1.8596 - val_accuracy: 0.4136\n",
      "Epoch 9/50\n",
      "14/14 [==============================] - 4s 270ms/step - loss: 1.7316 - accuracy: 0.4110 - val_loss: 1.8172 - val_accuracy: 0.4136\n",
      "Epoch 10/50\n",
      "14/14 [==============================] - 4s 304ms/step - loss: 1.6473 - accuracy: 0.4543 - val_loss: 1.6229 - val_accuracy: 0.4636\n",
      "Epoch 11/50\n",
      "14/14 [==============================] - 4s 266ms/step - loss: 1.5211 - accuracy: 0.4920 - val_loss: 1.4550 - val_accuracy: 0.5318\n",
      "Epoch 12/50\n",
      "14/14 [==============================] - 4s 288ms/step - loss: 1.5007 - accuracy: 0.4966 - val_loss: 1.5657 - val_accuracy: 0.5182\n",
      "Epoch 13/50\n",
      "14/14 [==============================] - 4s 286ms/step - loss: 1.4591 - accuracy: 0.5251 - val_loss: 1.6488 - val_accuracy: 0.4773\n",
      "Epoch 14/50\n",
      "14/14 [==============================] - 4s 266ms/step - loss: 1.4521 - accuracy: 0.5171 - val_loss: 1.4714 - val_accuracy: 0.5227\n",
      "Epoch 15/50\n",
      "14/14 [==============================] - 4s 269ms/step - loss: 1.3445 - accuracy: 0.5674 - val_loss: 1.3531 - val_accuracy: 0.5682\n",
      "Epoch 16/50\n",
      "14/14 [==============================] - 4s 286ms/step - loss: 1.2668 - accuracy: 0.5890 - val_loss: 1.3751 - val_accuracy: 0.5364\n",
      "Epoch 17/50\n",
      "14/14 [==============================] - 4s 277ms/step - loss: 1.2620 - accuracy: 0.5970 - val_loss: 1.3076 - val_accuracy: 0.5727\n",
      "Epoch 18/50\n",
      "14/14 [==============================] - 4s 306ms/step - loss: 1.1777 - accuracy: 0.5947 - val_loss: 1.1941 - val_accuracy: 0.5955\n",
      "Epoch 19/50\n",
      "14/14 [==============================] - 5s 325ms/step - loss: 1.1459 - accuracy: 0.5982 - val_loss: 1.1473 - val_accuracy: 0.6273\n",
      "Epoch 20/50\n",
      "14/14 [==============================] - 5s 328ms/step - loss: 1.0312 - accuracy: 0.6518 - val_loss: 1.1402 - val_accuracy: 0.6636\n",
      "Epoch 21/50\n",
      "14/14 [==============================] - 4s 292ms/step - loss: 1.0660 - accuracy: 0.6495 - val_loss: 1.1942 - val_accuracy: 0.6364\n",
      "Epoch 22/50\n",
      "14/14 [==============================] - 4s 277ms/step - loss: 1.0185 - accuracy: 0.6655 - val_loss: 1.1888 - val_accuracy: 0.6136\n",
      "Epoch 23/50\n",
      "14/14 [==============================] - 4s 316ms/step - loss: 1.0011 - accuracy: 0.6678 - val_loss: 1.1325 - val_accuracy: 0.6409\n",
      "Epoch 24/50\n",
      "14/14 [==============================] - 4s 280ms/step - loss: 0.9651 - accuracy: 0.7009 - val_loss: 1.0801 - val_accuracy: 0.6364\n",
      "Epoch 25/50\n",
      "14/14 [==============================] - 4s 264ms/step - loss: 0.9546 - accuracy: 0.6598 - val_loss: 1.0872 - val_accuracy: 0.6818\n",
      "Epoch 26/50\n",
      "14/14 [==============================] - 4s 271ms/step - loss: 0.9247 - accuracy: 0.6975 - val_loss: 0.9546 - val_accuracy: 0.7091\n",
      "Epoch 27/50\n",
      "14/14 [==============================] - 4s 286ms/step - loss: 0.8828 - accuracy: 0.7169 - val_loss: 0.9431 - val_accuracy: 0.7091\n",
      "Epoch 28/50\n",
      "14/14 [==============================] - 4s 275ms/step - loss: 0.8510 - accuracy: 0.7249 - val_loss: 1.0537 - val_accuracy: 0.7000\n",
      "Epoch 29/50\n",
      "14/14 [==============================] - 4s 284ms/step - loss: 0.8399 - accuracy: 0.7146 - val_loss: 0.9106 - val_accuracy: 0.7182\n",
      "Epoch 30/50\n",
      "14/14 [==============================] - 4s 279ms/step - loss: 0.7826 - accuracy: 0.7477 - val_loss: 1.1215 - val_accuracy: 0.6500\n",
      "Epoch 31/50\n",
      "14/14 [==============================] - 4s 273ms/step - loss: 0.7966 - accuracy: 0.7340 - val_loss: 0.9214 - val_accuracy: 0.7136\n",
      "Epoch 32/50\n",
      "14/14 [==============================] - 4s 265ms/step - loss: 0.7607 - accuracy: 0.7454 - val_loss: 1.0123 - val_accuracy: 0.6818\n",
      "Epoch 33/50\n",
      "14/14 [==============================] - 4s 270ms/step - loss: 0.7749 - accuracy: 0.7397 - val_loss: 0.9246 - val_accuracy: 0.7045\n",
      "Epoch 34/50\n",
      "14/14 [==============================] - 4s 267ms/step - loss: 0.7410 - accuracy: 0.7626 - val_loss: 0.8768 - val_accuracy: 0.7227\n",
      "Epoch 35/50\n",
      "14/14 [==============================] - 4s 257ms/step - loss: 0.6905 - accuracy: 0.7637 - val_loss: 1.0993 - val_accuracy: 0.6409\n",
      "Epoch 36/50\n",
      "14/14 [==============================] - 4s 265ms/step - loss: 0.6576 - accuracy: 0.7751 - val_loss: 0.8902 - val_accuracy: 0.7364\n",
      "Epoch 37/50\n",
      "14/14 [==============================] - 4s 270ms/step - loss: 0.6063 - accuracy: 0.7831 - val_loss: 0.9218 - val_accuracy: 0.7091\n",
      "Epoch 38/50\n",
      "14/14 [==============================] - 4s 258ms/step - loss: 0.6723 - accuracy: 0.7865 - val_loss: 0.8851 - val_accuracy: 0.7545\n",
      "Epoch 39/50\n",
      "14/14 [==============================] - 4s 265ms/step - loss: 0.6208 - accuracy: 0.8002 - val_loss: 0.8940 - val_accuracy: 0.7273\n",
      "Epoch 40/50\n",
      "14/14 [==============================] - 4s 265ms/step - loss: 0.5914 - accuracy: 0.7900 - val_loss: 0.8617 - val_accuracy: 0.7636\n",
      "Epoch 41/50\n",
      "14/14 [==============================] - 4s 258ms/step - loss: 0.5883 - accuracy: 0.8059 - val_loss: 0.8368 - val_accuracy: 0.7182\n",
      "Epoch 42/50\n",
      "14/14 [==============================] - 4s 269ms/step - loss: 0.6080 - accuracy: 0.8116 - val_loss: 0.9413 - val_accuracy: 0.7591\n",
      "Epoch 43/50\n",
      "14/14 [==============================] - 4s 266ms/step - loss: 0.6100 - accuracy: 0.7968 - val_loss: 0.8981 - val_accuracy: 0.7318\n",
      "Epoch 44/50\n",
      "14/14 [==============================] - 4s 266ms/step - loss: 0.5165 - accuracy: 0.8311 - val_loss: 0.8114 - val_accuracy: 0.7455\n",
      "Epoch 45/50\n",
      "14/14 [==============================] - 4s 267ms/step - loss: 0.5070 - accuracy: 0.8265 - val_loss: 0.7613 - val_accuracy: 0.7636\n",
      "Epoch 46/50\n",
      "14/14 [==============================] - 4s 277ms/step - loss: 0.5802 - accuracy: 0.8048 - val_loss: 0.8171 - val_accuracy: 0.7818\n",
      "Epoch 47/50\n",
      "14/14 [==============================] - 4s 260ms/step - loss: 0.4485 - accuracy: 0.8470 - val_loss: 0.8237 - val_accuracy: 0.7500\n",
      "Epoch 48/50\n",
      "14/14 [==============================] - 4s 264ms/step - loss: 0.5855 - accuracy: 0.8116 - val_loss: 0.8052 - val_accuracy: 0.7455\n",
      "Epoch 49/50\n",
      "14/14 [==============================] - 4s 266ms/step - loss: 0.5682 - accuracy: 0.8151 - val_loss: 0.7717 - val_accuracy: 0.7636\n",
      "Epoch 50/50\n",
      "14/14 [==============================] - 4s 272ms/step - loss: 0.5176 - accuracy: 0.8322 - val_loss: 0.8150 - val_accuracy: 0.7000\n"
     ]
    },
    {
     "data": {
      "text/plain": [
       "<keras.src.callbacks.History at 0x1115d16d0>"
      ]
     },
     "execution_count": 87,
     "metadata": {},
     "output_type": "execute_result"
    }
   ],
   "source": [
    "epochs = 50\n",
    "\n",
    "callbacks = [\n",
    "    keras.callbacks.ModelCheckpoint(\"save_at_{epoch}.keras\"),\n",
    "]\n",
    "model.compile(\n",
    "    optimizer=keras.optimizers.legacy.Adam(1e-3), # legacy for m1 support\n",
    "    loss=\"categorical_crossentropy\",\n",
    "    metrics=[\"accuracy\"],\n",
    ")\n",
    "model.fit(\n",
    "    train_data_generator,\n",
    "    epochs=epochs,\n",
    "    callbacks=callbacks,\n",
    "    validation_data=val_data_generator,\n",
    ")"
   ]
  },
  {
   "cell_type": "code",
   "execution_count": null,
   "metadata": {},
   "outputs": [],
   "source": []
  }
 ],
 "metadata": {
  "kernelspec": {
   "display_name": "Python 3 (ipykernel)",
   "language": "python",
   "name": "python3"
  },
  "language_info": {
   "codemirror_mode": {
    "name": "ipython",
    "version": 3
   },
   "file_extension": ".py",
   "mimetype": "text/x-python",
   "name": "python",
   "nbconvert_exporter": "python",
   "pygments_lexer": "ipython3",
   "version": "3.9.7"
  }
 },
 "nbformat": 4,
 "nbformat_minor": 2
}
