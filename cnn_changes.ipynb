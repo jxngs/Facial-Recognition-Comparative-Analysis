{
 "cells": [
  {
   "cell_type": "code",
   "execution_count": 35,
   "metadata": {},
   "outputs": [],
   "source": [
    "import numpy as np\n",
    "import tensorflow as tf\n",
    "import keras\n",
    "from tensorflow.keras import layers\n",
    "import os\n",
    "from sklearn.model_selection import train_test_split\n",
    "from filereader import FileReader\n",
    "import yalefaces"
   ]
  },
  {
   "cell_type": "code",
   "execution_count": 45,
   "metadata": {},
   "outputs": [],
   "source": [
    "IMAGE_SIZE = (100, 100) \n",
    "THRESHOLD = 0 # change to 50 for lfw"
   ]
  },
  {
   "cell_type": "code",
   "execution_count": 46,
   "metadata": {},
   "outputs": [],
   "source": [
    "# uncomment for lfw\n",
    "# all_labels, all_images = FileReader.readFilesToVectors('./lfw-deepfunneled', 100, 150, 50)\n",
    "# frequencies = {}\n",
    "# frequencies = {name: all_labels.count(name) for name in all_labels}"
   ]
  },
  {
   "cell_type": "code",
   "execution_count": 47,
   "metadata": {},
   "outputs": [],
   "source": [
    "# uncomment for yalefaces\n",
    "all_images, all_labels = yalefaces.yale_data(100)\n",
    "unique_values, counts = np.unique(all_labels, return_counts=True)\n",
    "frequencies = dict(zip(unique_values, counts))"
   ]
  },
  {
   "cell_type": "code",
   "execution_count": 48,
   "metadata": {},
   "outputs": [],
   "source": []
  },
  {
   "cell_type": "code",
   "execution_count": 49,
   "metadata": {},
   "outputs": [],
   "source": [
    "kept_images = []\n",
    "kept_labels = []\n",
    "\n",
    "for img, label in zip(all_images, all_labels):\n",
    "    if frequencies[label] > THRESHOLD:\n",
    "        kept_images.append(img)\n",
    "        kept_labels.append(label)"
   ]
  },
  {
   "cell_type": "code",
   "execution_count": 50,
   "metadata": {},
   "outputs": [],
   "source": [
    "kept_images = np.array([np.resize(img, IMAGE_SIZE) for img in kept_images])"
   ]
  },
  {
   "cell_type": "code",
   "execution_count": 51,
   "metadata": {},
   "outputs": [
    {
     "data": {
      "image/png": "[encoded data removed]",
      "text/plain": [
       "<PIL.Image.Image image mode=L size=100x100>"
      ]
     },
     "metadata": {},
     "output_type": "display_data"
    }
   ],
   "source": [
    "first_image = kept_images[0]\n",
    "img = keras.preprocessing.image.array_to_img(np.expand_dims(first_image * 255, axis=-1))\n",
    "display(img)"
   ]
  },
  {
   "cell_type": "code",
   "execution_count": 52,
   "metadata": {},
   "outputs": [],
   "source": [
    "# remap labels from [0, N - 1]\n",
    "\n",
    "old_labels_to_new_labels = {}\n",
    "for label in kept_labels:\n",
    "    if label not in old_labels_to_new_labels:\n",
    "        old_labels_to_new_labels[label] = len(old_labels_to_new_labels)\n",
    "\n",
    "kept_labels = [old_labels_to_new_labels[label] for label in kept_labels]"
   ]
  },
  {
   "cell_type": "code",
   "execution_count": 53,
   "metadata": {},
   "outputs": [],
   "source": [
    "images = np.expand_dims(np.asarray(kept_images), axis=-1) # necessary to show there is 1 channel (grayscale)?\n",
    "labels = keras.utils.to_categorical(np.asarray(kept_labels))"
   ]
  },
  {
   "cell_type": "code",
   "execution_count": 54,
   "metadata": {},
   "outputs": [
    {
     "name": "stdout",
     "output_type": "stream",
     "text": [
      "[[1. 0. 0. ... 0. 0. 0.]\n",
      " [1. 0. 0. ... 0. 0. 0.]\n",
      " [1. 0. 0. ... 0. 0. 0.]\n",
      " ...\n",
      " [0. 0. 0. ... 0. 0. 1.]\n",
      " [0. 0. 0. ... 0. 0. 1.]\n",
      " [0. 0. 0. ... 0. 0. 1.]]\n"
     ]
    }
   ],
   "source": [
    "print(labels)"
   ]
  },
  {
   "cell_type": "code",
   "execution_count": 55,
   "metadata": {},
   "outputs": [],
   "source": [
    "train_images, val_images, train_labels, val_labels = train_test_split(images, labels, test_size=0.2, random_state=42)\n",
    "datagen = keras.preprocessing.image.ImageDataGenerator(\n",
    "    rotation_range=20,\n",
    "    horizontal_flip=True,\n",
    ")"
   ]
  },
  {
   "cell_type": "code",
   "execution_count": 56,
   "metadata": {},
   "outputs": [],
   "source": [
    "datagen.fit(train_images)"
   ]
  },
  {
   "cell_type": "code",
   "execution_count": 57,
   "metadata": {},
   "outputs": [],
   "source": [
    "train_data_generator = datagen.flow(train_images, train_labels, batch_size=64, shuffle=True)\n",
    "val_data_generator = datagen.flow(val_images, val_labels, batch_size=64, shuffle=True)"
   ]
  },
  {
   "cell_type": "code",
   "execution_count": 58,
   "metadata": {},
   "outputs": [
    {
     "data": {
      "image/png": "[encoded data removed]",
      "text/plain": [
       "<PIL.Image.Image image mode=L size=100x100>"
      ]
     },
     "metadata": {},
     "output_type": "display_data"
    },
    {
     "name": "stdout",
     "output_type": "stream",
     "text": [
      "[0. 0. 0. 0. 0. 0. 0. 0. 0. 0. 0. 0. 1. 0. 0.]\n"
     ]
    }
   ],
   "source": [
    "# display first image in val data batch and its label -- just for validation\n",
    "first_batch = next(val_data_generator)\n",
    "display(keras.preprocessing.image.array_to_img(first_batch[0][0] * 255))\n",
    "print(first_batch[1][0])\n",
    "\n",
    "val_data_generator = datagen.flow(val_images, val_labels, batch_size=64, shuffle=True) # reset val_data_generator"
   ]
  },
  {
   "cell_type": "code",
   "execution_count": 59,
   "metadata": {},
   "outputs": [],
   "source": [
    "# Xception model from https://keras.io/examples/vision/image_classification_from_scratch/#using-image-data-augmentation\n",
    "\n",
    "# def make_model(input_shape, num_classes):\n",
    "#     inputs = keras.Input(shape=input_shape)\n",
    "\n",
    "#     # Entry block\n",
    "#     x = layers.Rescaling(1.0 / 255)(inputs)\n",
    "#     x = layers.Conv2D(128, 3, strides=2, padding=\"same\")(x)\n",
    "#     x = layers.BatchNormalization()(x)\n",
    "#     x = layers.Activation(\"relu\")(x)\n",
    "\n",
    "#     previous_block_activation = x  # Set aside residual\n",
    "\n",
    "#     for size in [256, 512, 728]:\n",
    "#         x = layers.Activation(\"relu\")(x)\n",
    "#         x = layers.SeparableConv2D(size, 3, padding=\"same\")(x)\n",
    "#         x = layers.BatchNormalization()(x)\n",
    "\n",
    "#         x = layers.Activation(\"relu\")(x)\n",
    "#         x = layers.SeparableConv2D(size, 3, padding=\"same\")(x)\n",
    "#         x = layers.BatchNormalization()(x)\n",
    "\n",
    "#         x = layers.MaxPooling2D(3, strides=2, padding=\"same\")(x)\n",
    "\n",
    "#         # Project residual\n",
    "#         residual = layers.Conv2D(size, 1, strides=2, padding=\"same\")(\n",
    "#             previous_block_activation\n",
    "#         )\n",
    "#         x = layers.add([x, residual])  # Add back residual\n",
    "#         previous_block_activation = x  # Set aside next residual\n",
    "\n",
    "#     x = layers.SeparableConv2D(1024, 3, padding=\"same\")(x)\n",
    "#     x = layers.BatchNormalization()(x)\n",
    "#     x = layers.Activation(\"relu\")(x)\n",
    "\n",
    "#     x = layers.GlobalAveragePooling2D()(x)\n",
    "#     if num_classes == 2:\n",
    "#         activation = \"sigmoid\"\n",
    "#         units = 1\n",
    "#     else:\n",
    "#         activation = \"softmax\"\n",
    "#         units = num_classes\n",
    "\n",
    "#     x = layers.Dropout(0.5)(x)\n",
    "#     outputs = layers.Dense(units, activation=activation)(x)\n",
    "#     return keras.Model(inputs, outputs)\n",
    "\n",
    "\n",
    "# model = make_model(input_shape=IMAGE_SIZE + (1, ), num_classes=len(frequencies))\n",
    "\n",
    "input_shape = IMAGE_SIZE + (1, )\n",
    "num_classes = len(set(kept_labels))\n",
    "\n",
    "model = keras.Sequential(\n",
    "    [\n",
    "        keras.Input(shape=input_shape),\n",
    "        layers.Conv2D(32, kernel_size=(3, 3), activation=\"relu\"),\n",
    "        layers.MaxPooling2D(pool_size=(2, 2)),\n",
    "        layers.Conv2D(64, kernel_size=(3, 3), activation=\"relu\"),\n",
    "        layers.MaxPooling2D(pool_size=(2, 2)),\n",
    "        layers.Flatten(),\n",
    "        layers.Dropout(0.5),\n",
    "        layers.Dense(num_classes, activation=\"softmax\"),\n",
    "    ]\n",
    ")"
   ]
  },
  {
   "cell_type": "code",
   "execution_count": 60,
   "metadata": {},
   "outputs": [
    {
     "data": {
      "text/plain": [
       "(64, 15)"
      ]
     },
     "execution_count": 60,
     "metadata": {},
     "output_type": "execute_result"
    }
   ],
   "source": [
    "next(train_data_generator)[1].shape"
   ]
  },
  {
   "cell_type": "code",
   "execution_count": 61,
   "metadata": {},
   "outputs": [
    {
     "name": "stdout",
     "output_type": "stream",
     "text": [
      "Epoch 1/50\n",
      "3/3 [==============================] - 2s 493ms/step - loss: 217.8266 - accuracy: 0.0530 - val_loss: 172.8399 - val_accuracy: 0.0303\n",
      "Epoch 2/50\n",
      "3/3 [==============================] - 1s 187ms/step - loss: 163.0739 - accuracy: 0.0682 - val_loss: 117.1093 - val_accuracy: 0.1212\n",
      "Epoch 3/50\n",
      "3/3 [==============================] - 1s 294ms/step - loss: 60.5492 - accuracy: 0.1364 - val_loss: 24.4884 - val_accuracy: 0.2727\n",
      "Epoch 4/50\n",
      "3/3 [==============================] - 1s 173ms/step - loss: 15.8167 - accuracy: 0.1894 - val_loss: 4.1709 - val_accuracy: 0.2121\n",
      "Epoch 5/50\n",
      "3/3 [==============================] - 1s 183ms/step - loss: 3.4108 - accuracy: 0.2879 - val_loss: 2.3564 - val_accuracy: 0.3939\n",
      "Epoch 6/50\n",
      "3/3 [==============================] - 1s 331ms/step - loss: 1.6192 - accuracy: 0.4621 - val_loss: 1.4457 - val_accuracy: 0.4848\n",
      "Epoch 7/50\n",
      "3/3 [==============================] - 1s 321ms/step - loss: 1.3822 - accuracy: 0.5227 - val_loss: 1.1764 - val_accuracy: 0.6667\n",
      "Epoch 8/50\n",
      "3/3 [==============================] - 1s 184ms/step - loss: 1.3208 - accuracy: 0.5455 - val_loss: 0.9826 - val_accuracy: 0.6667\n",
      "Epoch 9/50\n",
      "3/3 [==============================] - 1s 174ms/step - loss: 1.2371 - accuracy: 0.5985 - val_loss: 0.9070 - val_accuracy: 0.6970\n",
      "Epoch 10/50\n",
      "3/3 [==============================] - 1s 184ms/step - loss: 1.1654 - accuracy: 0.6439 - val_loss: 0.8116 - val_accuracy: 0.7576\n",
      "Epoch 11/50\n",
      "3/3 [==============================] - 1s 297ms/step - loss: 0.9916 - accuracy: 0.6742 - val_loss: 0.6404 - val_accuracy: 0.7879\n",
      "Epoch 12/50\n",
      "3/3 [==============================] - 1s 169ms/step - loss: 0.6587 - accuracy: 0.8106 - val_loss: 0.4191 - val_accuracy: 0.8788\n",
      "Epoch 13/50\n",
      "3/3 [==============================] - 1s 298ms/step - loss: 0.6224 - accuracy: 0.7879 - val_loss: 0.3832 - val_accuracy: 0.9091\n",
      "Epoch 14/50\n",
      "3/3 [==============================] - 1s 176ms/step - loss: 0.3514 - accuracy: 0.9167 - val_loss: 0.2694 - val_accuracy: 0.8788\n",
      "Epoch 15/50\n",
      "3/3 [==============================] - 1s 323ms/step - loss: 0.4794 - accuracy: 0.8712 - val_loss: 0.3954 - val_accuracy: 0.8788\n",
      "Epoch 16/50\n",
      "3/3 [==============================] - 1s 171ms/step - loss: 0.3708 - accuracy: 0.8864 - val_loss: 0.4929 - val_accuracy: 0.8485\n",
      "Epoch 17/50\n",
      "3/3 [==============================] - 1s 367ms/step - loss: 0.1446 - accuracy: 0.9621 - val_loss: 0.4754 - val_accuracy: 0.8182\n",
      "Epoch 18/50\n",
      "3/3 [==============================] - 1s 207ms/step - loss: 0.2203 - accuracy: 0.9318 - val_loss: 0.4655 - val_accuracy: 0.8788\n",
      "Epoch 19/50\n",
      "3/3 [==============================] - 1s 173ms/step - loss: 0.3047 - accuracy: 0.9242 - val_loss: 0.2657 - val_accuracy: 0.9394\n",
      "Epoch 20/50\n",
      "3/3 [==============================] - 1s 303ms/step - loss: 0.2514 - accuracy: 0.9318 - val_loss: 0.2817 - val_accuracy: 0.8788\n",
      "Epoch 21/50\n",
      "3/3 [==============================] - 1s 303ms/step - loss: 0.1136 - accuracy: 0.9621 - val_loss: 0.1455 - val_accuracy: 0.9697\n",
      "Epoch 22/50\n",
      "3/3 [==============================] - 1s 344ms/step - loss: 0.1464 - accuracy: 0.9773 - val_loss: 0.2899 - val_accuracy: 0.9394\n",
      "Epoch 23/50\n",
      "3/3 [==============================] - 1s 202ms/step - loss: 0.1580 - accuracy: 0.9242 - val_loss: 0.2969 - val_accuracy: 0.9091\n",
      "Epoch 24/50\n",
      "3/3 [==============================] - 1s 170ms/step - loss: 0.1405 - accuracy: 0.9394 - val_loss: 0.1807 - val_accuracy: 0.8788\n",
      "Epoch 25/50\n",
      "3/3 [==============================] - 1s 173ms/step - loss: 0.0645 - accuracy: 0.9773 - val_loss: 0.3569 - val_accuracy: 0.9394\n",
      "Epoch 26/50\n",
      "3/3 [==============================] - 1s 184ms/step - loss: 0.0891 - accuracy: 0.9773 - val_loss: 0.3670 - val_accuracy: 0.8788\n",
      "Epoch 27/50\n",
      "3/3 [==============================] - 1s 169ms/step - loss: 0.1192 - accuracy: 0.9697 - val_loss: 0.1481 - val_accuracy: 0.9697\n",
      "Epoch 28/50\n",
      "3/3 [==============================] - 1s 175ms/step - loss: 0.0833 - accuracy: 0.9773 - val_loss: 0.3531 - val_accuracy: 0.9091\n",
      "Epoch 29/50\n",
      "3/3 [==============================] - 1s 301ms/step - loss: 0.0812 - accuracy: 0.9697 - val_loss: 0.1933 - val_accuracy: 0.9394\n",
      "Epoch 30/50\n",
      "3/3 [==============================] - 1s 200ms/step - loss: 0.0990 - accuracy: 0.9697 - val_loss: 0.3683 - val_accuracy: 0.9091\n",
      "Epoch 31/50\n",
      "3/3 [==============================] - 1s 194ms/step - loss: 0.1670 - accuracy: 0.9621 - val_loss: 0.1610 - val_accuracy: 0.9394\n",
      "Epoch 32/50\n",
      "3/3 [==============================] - 1s 173ms/step - loss: 0.2185 - accuracy: 0.9091 - val_loss: 0.3897 - val_accuracy: 0.8485\n",
      "Epoch 33/50\n",
      "3/3 [==============================] - 1s 212ms/step - loss: 0.1337 - accuracy: 0.9545 - val_loss: 0.3682 - val_accuracy: 0.8485\n",
      "Epoch 34/50\n",
      "3/3 [==============================] - 1s 334ms/step - loss: 0.2821 - accuracy: 0.9091 - val_loss: 0.3333 - val_accuracy: 0.9091\n",
      "Epoch 35/50\n",
      "3/3 [==============================] - 1s 299ms/step - loss: 0.1673 - accuracy: 0.9545 - val_loss: 0.3585 - val_accuracy: 0.9394\n",
      "Epoch 36/50\n",
      "3/3 [==============================] - 1s 334ms/step - loss: 0.1962 - accuracy: 0.9697 - val_loss: 0.2479 - val_accuracy: 0.9394\n",
      "Epoch 37/50\n",
      "3/3 [==============================] - 1s 352ms/step - loss: 0.1501 - accuracy: 0.9470 - val_loss: 0.4577 - val_accuracy: 0.9394\n",
      "Epoch 38/50\n",
      "3/3 [==============================] - 1s 197ms/step - loss: 0.1301 - accuracy: 0.9697 - val_loss: 0.3665 - val_accuracy: 0.9394\n",
      "Epoch 39/50\n",
      "3/3 [==============================] - 1s 194ms/step - loss: 0.0810 - accuracy: 0.9697 - val_loss: 0.3931 - val_accuracy: 0.9091\n",
      "Epoch 40/50\n",
      "3/3 [==============================] - 1s 215ms/step - loss: 0.1267 - accuracy: 0.9697 - val_loss: 0.3267 - val_accuracy: 0.9394\n",
      "Epoch 41/50\n",
      "3/3 [==============================] - 1s 200ms/step - loss: 0.0265 - accuracy: 1.0000 - val_loss: 0.2378 - val_accuracy: 0.9697\n",
      "Epoch 42/50\n",
      "3/3 [==============================] - 1s 207ms/step - loss: 0.0375 - accuracy: 0.9924 - val_loss: 0.2728 - val_accuracy: 0.9394\n",
      "Epoch 43/50\n",
      "3/3 [==============================] - 1s 187ms/step - loss: 0.0616 - accuracy: 0.9924 - val_loss: 0.1736 - val_accuracy: 0.9394\n",
      "Epoch 44/50\n",
      "3/3 [==============================] - 1s 178ms/step - loss: 0.1723 - accuracy: 0.9545 - val_loss: 0.2226 - val_accuracy: 0.9697\n",
      "Epoch 45/50\n",
      "3/3 [==============================] - 1s 187ms/step - loss: 0.0171 - accuracy: 1.0000 - val_loss: 0.2960 - val_accuracy: 0.9394\n",
      "Epoch 46/50\n",
      "3/3 [==============================] - 1s 178ms/step - loss: 0.0350 - accuracy: 0.9773 - val_loss: 0.2332 - val_accuracy: 0.9394\n",
      "Epoch 47/50\n",
      "3/3 [==============================] - 1s 351ms/step - loss: 0.0482 - accuracy: 0.9848 - val_loss: 0.3590 - val_accuracy: 0.9394\n",
      "Epoch 48/50\n",
      "3/3 [==============================] - 1s 323ms/step - loss: 0.0092 - accuracy: 1.0000 - val_loss: 0.3722 - val_accuracy: 0.9394\n",
      "Epoch 49/50\n",
      "3/3 [==============================] - 1s 174ms/step - loss: 0.0024 - accuracy: 1.0000 - val_loss: 0.4594 - val_accuracy: 0.9394\n",
      "Epoch 50/50\n",
      "3/3 [==============================] - 1s 198ms/step - loss: 0.0189 - accuracy: 0.9924 - val_loss: 0.4932 - val_accuracy: 0.9091\n"
     ]
    },
    {
     "data": {
      "text/plain": [
       "<keras.src.callbacks.History at 0x1ed3d83ea50>"
      ]
     },
     "execution_count": 61,
     "metadata": {},
     "output_type": "execute_result"
    }
   ],
   "source": [
    "epochs = 50\n",
    "\n",
    "callbacks = [\n",
    "    keras.callbacks.ModelCheckpoint(\"save_at_{epoch}.keras\"),\n",
    "]\n",
    "model.compile(\n",
    "    optimizer=keras.optimizers.legacy.Adam(1e-3), # legacy for m1 support\n",
    "    loss=\"categorical_crossentropy\",\n",
    "    metrics=[\"accuracy\"],\n",
    ")\n",
    "model.fit(\n",
    "    train_data_generator,\n",
    "    epochs=epochs,\n",
    "    callbacks=callbacks,\n",
    "    validation_data=val_data_generator,\n",
    ")"
   ]
  },
  {
   "cell_type": "code",
   "execution_count": null,
   "metadata": {},
   "outputs": [],
   "source": []
  },
  {
   "cell_type": "code",
   "execution_count": null,
   "metadata": {},
   "outputs": [],
   "source": []
  },
  {
   "cell_type": "markdown",
   "metadata": {},
   "source": []
  },
  {
   "cell_type": "code",
   "execution_count": null,
   "metadata": {},
   "outputs": [],
   "source": []
  }
 ],
 "metadata": {
  "kernelspec": {
   "display_name": "Python 3 (ipykernel)",
   "language": "python",
   "name": "python3"
  },
  "language_info": {
   "codemirror_mode": {
    "name": "ipython",
    "version": 3
   },
   "file_extension": ".py",
   "mimetype": "text/x-python",
   "name": "python",
   "nbconvert_exporter": "python",
   "pygments_lexer": "ipython3",
   "version": "3.11.4"
  }
 },
 "nbformat": 4,
 "nbformat_minor": 2
}
