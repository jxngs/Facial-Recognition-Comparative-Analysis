{
 "cells": [
  {
   "cell_type": "code",
   "execution_count": 1,
   "id": "3ee5034b-04fd-43a6-a806-eaf2bb5c8a7c",
   "metadata": {
    "tags": []
   },
   "outputs": [],
   "source": [
    "import json"
   ]
  },
  {
   "cell_type": "code",
   "execution_count": 2,
   "id": "0d99e940-5e40-4508-b4cc-4d2052d4885a",
   "metadata": {
    "tags": []
   },
   "outputs": [],
   "source": [
    "dic = json.load(open(\"accuracy_formatted.json\", 'r'))"
   ]
  },
  {
   "cell_type": "code",
   "execution_count": 3,
   "id": "3de2bd9b-46ed-4a97-83ef-92c236e94e7b",
   "metadata": {
    "tags": []
   },
   "outputs": [],
   "source": [
    "import pandas as pd"
   ]
  },
  {
   "cell_type": "code",
   "execution_count": 4,
   "id": "47d0e89a-beac-4e85-bcc2-96f55391e58a",
   "metadata": {
    "tags": []
   },
   "outputs": [],
   "source": [
    "arr = []"
   ]
  },
  {
   "cell_type": "code",
   "execution_count": 5,
   "id": "0f850ef9-82d6-40f3-b7e0-c03a4f366578",
   "metadata": {
    "tags": []
   },
   "outputs": [],
   "source": [
    "for key in sorted(dic.keys()):\n",
    "    arr.append(dic[key])"
   ]
  },
  {
   "cell_type": "code",
   "execution_count": 6,
   "id": "7d9f0e8f-25d8-47f3-afa9-b582ad75e938",
   "metadata": {
    "tags": []
   },
   "outputs": [],
   "source": [
    "df = pd.DataFrame(arr)"
   ]
  },
  {
   "cell_type": "code",
   "execution_count": 7,
   "id": "9fe0194a-6d87-4036-b879-b2a6970a210c",
   "metadata": {
    "tags": []
   },
   "outputs": [],
   "source": [
    "df['label'] = df['model'] + '/' + df['dataset']"
   ]
  },
  {
   "cell_type": "code",
   "execution_count": 8,
   "id": "f0d289c6-b449-4a63-8439-dd0be618b516",
   "metadata": {
    "tags": []
   },
   "outputs": [
    {
     "data": {
      "text/html": [
       "<div>\n",
       "<style scoped>\n",
       "    .dataframe tbody tr th:only-of-type {\n",
       "        vertical-align: middle;\n",
       "    }\n",
       "\n",
       "    .dataframe tbody tr th {\n",
       "        vertical-align: top;\n",
       "    }\n",
       "\n",
       "    .dataframe thead th {\n",
       "        text-align: right;\n",
       "    }\n",
       "</style>\n",
       "<table border=\"1\" class=\"dataframe\">\n",
       "  <thead>\n",
       "    <tr style=\"text-align: right;\">\n",
       "      <th></th>\n",
       "      <th>accuracy</th>\n",
       "      <th>label</th>\n",
       "    </tr>\n",
       "  </thead>\n",
       "  <tbody>\n",
       "    <tr>\n",
       "      <th>11</th>\n",
       "      <td>0.273750</td>\n",
       "      <td>CNN/BFW Balanced</td>\n",
       "    </tr>\n",
       "    <tr>\n",
       "      <th>7</th>\n",
       "      <td>0.322000</td>\n",
       "      <td>CNN/BFW Probabilistic</td>\n",
       "    </tr>\n",
       "    <tr>\n",
       "      <th>13</th>\n",
       "      <td>0.859091</td>\n",
       "      <td>CNN/LFW</td>\n",
       "    </tr>\n",
       "    <tr>\n",
       "      <th>17</th>\n",
       "      <td>0.812500</td>\n",
       "      <td>CNN/TA Data</td>\n",
       "    </tr>\n",
       "    <tr>\n",
       "      <th>3</th>\n",
       "      <td>0.939394</td>\n",
       "      <td>CNN/Yale Data</td>\n",
       "    </tr>\n",
       "    <tr>\n",
       "      <th>8</th>\n",
       "      <td>0.192500</td>\n",
       "      <td>Eigenfaces/BFW Balanced</td>\n",
       "    </tr>\n",
       "    <tr>\n",
       "      <th>4</th>\n",
       "      <td>0.200000</td>\n",
       "      <td>Eigenfaces/BFW Probabilistic</td>\n",
       "    </tr>\n",
       "    <tr>\n",
       "      <th>0</th>\n",
       "      <td>0.600000</td>\n",
       "      <td>Eigenfaces/LFW</td>\n",
       "    </tr>\n",
       "    <tr>\n",
       "      <th>14</th>\n",
       "      <td>0.687500</td>\n",
       "      <td>Eigenfaces/TA Data</td>\n",
       "    </tr>\n",
       "    <tr>\n",
       "      <th>18</th>\n",
       "      <td>0.969697</td>\n",
       "      <td>Eigenfaces/Yale Data</td>\n",
       "    </tr>\n",
       "    <tr>\n",
       "      <th>9</th>\n",
       "      <td>0.168750</td>\n",
       "      <td>Fisherfaces/BFW Balanced</td>\n",
       "    </tr>\n",
       "    <tr>\n",
       "      <th>5</th>\n",
       "      <td>0.120000</td>\n",
       "      <td>Fisherfaces/BFW Probabilistic</td>\n",
       "    </tr>\n",
       "    <tr>\n",
       "      <th>1</th>\n",
       "      <td>0.395455</td>\n",
       "      <td>Fisherfaces/LFW</td>\n",
       "    </tr>\n",
       "    <tr>\n",
       "      <th>15</th>\n",
       "      <td>0.750000</td>\n",
       "      <td>Fisherfaces/TA Data</td>\n",
       "    </tr>\n",
       "    <tr>\n",
       "      <th>19</th>\n",
       "      <td>0.727273</td>\n",
       "      <td>Fisherfaces/Yale Data</td>\n",
       "    </tr>\n",
       "    <tr>\n",
       "      <th>10</th>\n",
       "      <td>0.050000</td>\n",
       "      <td>LBPH/BFW Balanced</td>\n",
       "    </tr>\n",
       "    <tr>\n",
       "      <th>6</th>\n",
       "      <td>0.076000</td>\n",
       "      <td>LBPH/BFW Probabilistic</td>\n",
       "    </tr>\n",
       "    <tr>\n",
       "      <th>12</th>\n",
       "      <td>0.372727</td>\n",
       "      <td>LBPH/LFW</td>\n",
       "    </tr>\n",
       "    <tr>\n",
       "      <th>16</th>\n",
       "      <td>0.750000</td>\n",
       "      <td>LBPH/TA Data</td>\n",
       "    </tr>\n",
       "    <tr>\n",
       "      <th>2</th>\n",
       "      <td>0.757576</td>\n",
       "      <td>LBPH/Yale Data</td>\n",
       "    </tr>\n",
       "  </tbody>\n",
       "</table>\n",
       "</div>"
      ],
      "text/plain": [
       "    accuracy                          label\n",
       "11  0.273750               CNN/BFW Balanced\n",
       "7   0.322000          CNN/BFW Probabilistic\n",
       "13  0.859091                        CNN/LFW\n",
       "17  0.812500                    CNN/TA Data\n",
       "3   0.939394                  CNN/Yale Data\n",
       "8   0.192500        Eigenfaces/BFW Balanced\n",
       "4   0.200000   Eigenfaces/BFW Probabilistic\n",
       "0   0.600000                 Eigenfaces/LFW\n",
       "14  0.687500             Eigenfaces/TA Data\n",
       "18  0.969697           Eigenfaces/Yale Data\n",
       "9   0.168750       Fisherfaces/BFW Balanced\n",
       "5   0.120000  Fisherfaces/BFW Probabilistic\n",
       "1   0.395455                Fisherfaces/LFW\n",
       "15  0.750000            Fisherfaces/TA Data\n",
       "19  0.727273          Fisherfaces/Yale Data\n",
       "10  0.050000              LBPH/BFW Balanced\n",
       "6   0.076000         LBPH/BFW Probabilistic\n",
       "12  0.372727                       LBPH/LFW\n",
       "16  0.750000                   LBPH/TA Data\n",
       "2   0.757576                 LBPH/Yale Data"
      ]
     },
     "execution_count": 8,
     "metadata": {},
     "output_type": "execute_result"
    }
   ],
   "source": [
    "df.sort_values('label')[['accuracy', 'label']]"
   ]
  },
  {
   "cell_type": "code",
   "execution_count": 9,
   "id": "800932ea-ccf6-41ad-bf3c-6d97ce667474",
   "metadata": {
    "tags": []
   },
   "outputs": [
    {
     "data": {
      "text/html": [
       "<div>\n",
       "<style scoped>\n",
       "    .dataframe tbody tr th:only-of-type {\n",
       "        vertical-align: middle;\n",
       "    }\n",
       "\n",
       "    .dataframe tbody tr th {\n",
       "        vertical-align: top;\n",
       "    }\n",
       "\n",
       "    .dataframe thead th {\n",
       "        text-align: right;\n",
       "    }\n",
       "</style>\n",
       "<table border=\"1\" class=\"dataframe\">\n",
       "  <thead>\n",
       "    <tr style=\"text-align: right;\">\n",
       "      <th></th>\n",
       "      <th>accuracy</th>\n",
       "      <th>model</th>\n",
       "      <th>dataset</th>\n",
       "      <th>race_accuracy</th>\n",
       "      <th>gender_accuracy</th>\n",
       "      <th>demographic_accuracy</th>\n",
       "      <th>hyperparams</th>\n",
       "      <th>proportions</th>\n",
       "      <th>label</th>\n",
       "    </tr>\n",
       "  </thead>\n",
       "  <tbody>\n",
       "    <tr>\n",
       "      <th>0</th>\n",
       "      <td>0.600000</td>\n",
       "      <td>Eigenfaces</td>\n",
       "      <td>LFW</td>\n",
       "      <td>{}</td>\n",
       "      <td>{}</td>\n",
       "      <td>{}</td>\n",
       "      <td>{'n_components': 50, 'C': 1}</td>\n",
       "      <td>{}</td>\n",
       "      <td>Eigenfaces/LFW</td>\n",
       "    </tr>\n",
       "    <tr>\n",
       "      <th>1</th>\n",
       "      <td>0.395455</td>\n",
       "      <td>Fisherfaces</td>\n",
       "      <td>LFW</td>\n",
       "      <td>{}</td>\n",
       "      <td>{}</td>\n",
       "      <td>{}</td>\n",
       "      <td>{'num_features': 50}</td>\n",
       "      <td>{}</td>\n",
       "      <td>Fisherfaces/LFW</td>\n",
       "    </tr>\n",
       "    <tr>\n",
       "      <th>2</th>\n",
       "      <td>0.757576</td>\n",
       "      <td>LBPH</td>\n",
       "      <td>Yale Data</td>\n",
       "      <td>{}</td>\n",
       "      <td>{}</td>\n",
       "      <td>{}</td>\n",
       "      <td>{'size': 50, 'metric': 'ChiSquare', 'radius': 1}</td>\n",
       "      <td>{}</td>\n",
       "      <td>LBPH/Yale Data</td>\n",
       "    </tr>\n",
       "    <tr>\n",
       "      <th>3</th>\n",
       "      <td>0.939394</td>\n",
       "      <td>CNN</td>\n",
       "      <td>Yale Data</td>\n",
       "      <td>{}</td>\n",
       "      <td>{}</td>\n",
       "      <td>{}</td>\n",
       "      <td>{'epochs': 100}</td>\n",
       "      <td>{}</td>\n",
       "      <td>CNN/Yale Data</td>\n",
       "    </tr>\n",
       "    <tr>\n",
       "      <th>4</th>\n",
       "      <td>0.200000</td>\n",
       "      <td>Eigenfaces</td>\n",
       "      <td>BFW Probabilistic</td>\n",
       "      <td>{'white': 0.1642512077294686, 'black': 0.19, '...</td>\n",
       "      <td>{'males': 0.245136186770428, 'females': 0.1522...</td>\n",
       "      <td>{'white_males': 0.21359223300970873, 'black_fe...</td>\n",
       "      <td>{'n_components': 50, 'C': 1}</td>\n",
       "      <td>{'asian_females': 0.1, 'asian_males': 0.1, 'bl...</td>\n",
       "      <td>Eigenfaces/BFW Probabilistic</td>\n",
       "    </tr>\n",
       "  </tbody>\n",
       "</table>\n",
       "</div>"
      ],
      "text/plain": [
       "   accuracy        model            dataset  \\\n",
       "0  0.600000   Eigenfaces                LFW   \n",
       "1  0.395455  Fisherfaces                LFW   \n",
       "2  0.757576         LBPH          Yale Data   \n",
       "3  0.939394          CNN          Yale Data   \n",
       "4  0.200000   Eigenfaces  BFW Probabilistic   \n",
       "\n",
       "                                       race_accuracy  \\\n",
       "0                                                 {}   \n",
       "1                                                 {}   \n",
       "2                                                 {}   \n",
       "3                                                 {}   \n",
       "4  {'white': 0.1642512077294686, 'black': 0.19, '...   \n",
       "\n",
       "                                     gender_accuracy  \\\n",
       "0                                                 {}   \n",
       "1                                                 {}   \n",
       "2                                                 {}   \n",
       "3                                                 {}   \n",
       "4  {'males': 0.245136186770428, 'females': 0.1522...   \n",
       "\n",
       "                                demographic_accuracy  \\\n",
       "0                                                 {}   \n",
       "1                                                 {}   \n",
       "2                                                 {}   \n",
       "3                                                 {}   \n",
       "4  {'white_males': 0.21359223300970873, 'black_fe...   \n",
       "\n",
       "                                        hyperparams  \\\n",
       "0                      {'n_components': 50, 'C': 1}   \n",
       "1                              {'num_features': 50}   \n",
       "2  {'size': 50, 'metric': 'ChiSquare', 'radius': 1}   \n",
       "3                                   {'epochs': 100}   \n",
       "4                      {'n_components': 50, 'C': 1}   \n",
       "\n",
       "                                         proportions  \\\n",
       "0                                                 {}   \n",
       "1                                                 {}   \n",
       "2                                                 {}   \n",
       "3                                                 {}   \n",
       "4  {'asian_females': 0.1, 'asian_males': 0.1, 'bl...   \n",
       "\n",
       "                          label  \n",
       "0                Eigenfaces/LFW  \n",
       "1               Fisherfaces/LFW  \n",
       "2                LBPH/Yale Data  \n",
       "3                 CNN/Yale Data  \n",
       "4  Eigenfaces/BFW Probabilistic  "
      ]
     },
     "execution_count": 9,
     "metadata": {},
     "output_type": "execute_result"
    }
   ],
   "source": [
    "df.head()"
   ]
  },
  {
   "cell_type": "code",
   "execution_count": 10,
   "id": "694e9858-a512-4d27-a861-50d087b315a0",
   "metadata": {
    "tags": []
   },
   "outputs": [
    {
     "data": {
      "text/plain": [
       "<AxesSubplot:xlabel='label'>"
      ]
     },
     "execution_count": 10,
     "metadata": {},
     "output_type": "execute_result"
    },
    {
     "data": {
      "image/png": "[encoded data removed]",
      "text/plain": [
       "<Figure size 432x288 with 1 Axes>"
      ]
     },
     "metadata": {
      "needs_background": "light"
     },
     "output_type": "display_data"
    }
   ],
   "source": [
    "df.sort_values('label').plot(x='label', y='accuracy', kind='bar')"
   ]
  },
  {
   "cell_type": "code",
   "execution_count": 11,
   "id": "e1bc4f66-4c4b-418d-8595-83e75ada642e",
   "metadata": {
    "tags": []
   },
   "outputs": [
    {
     "data": {
      "text/plain": [
       "<AxesSubplot:xlabel='model', ylabel='accuracy average across four datasets'>"
      ]
     },
     "execution_count": 11,
     "metadata": {},
     "output_type": "execute_result"
    },
    {
     "data": {
      "image/png": "[encoded data removed]",
      "text/plain": [
       "<Figure size 432x288 with 1 Axes>"
      ]
     },
     "metadata": {
      "needs_background": "light"
     },
     "output_type": "display_data"
    }
   ],
   "source": [
    "df.groupby(\"model\").accuracy.mean().plot(kind='bar', ylabel='accuracy average across four datasets')"
   ]
  },
  {
   "cell_type": "code",
   "execution_count": 12,
   "id": "a74b2811-0eee-4012-bc8f-9dc4cf577bea",
   "metadata": {
    "tags": []
   },
   "outputs": [],
   "source": [
    "races = ['black', 'white', 'asian', 'indian']\n",
    "genders = ['males', 'females']\n",
    "demographics = ['black_males', 'white_males', 'asian_males', 'indian_males', 'black_females', 'white_females', 'asian_females', 'indian_females']"
   ]
  },
  {
   "cell_type": "code",
   "execution_count": 13,
   "id": "de3e5120-5fa8-4d86-a03a-fe4b52d4bddf",
   "metadata": {},
   "outputs": [],
   "source": [
    "for race in races:\n",
    "    arr = []\n",
    "    for row in df.iterrows():\n",
    "        if row[1].race_accuracy:\n",
    "            arr.append(row[1].race_accuracy[race])\n",
    "        else:\n",
    "            arr.append(None)\n",
    "    df[race] = arr"
   ]
  },
  {
   "cell_type": "code",
   "execution_count": 14,
   "id": "01b9b79b-e08c-47bc-97ac-071a9b8a3a59",
   "metadata": {
    "tags": []
   },
   "outputs": [],
   "source": [
    "for gender in genders:\n",
    "    arr = []\n",
    "    for row in df.iterrows():\n",
    "        if row[1].gender_accuracy:\n",
    "            arr.append(row[1].gender_accuracy[gender])\n",
    "        else:\n",
    "            arr.append(None)\n",
    "    df[gender] = arr"
   ]
  },
  {
   "cell_type": "code",
   "execution_count": 15,
   "id": "7654fd05-4c87-42b5-b498-f7650046f938",
   "metadata": {
    "tags": []
   },
   "outputs": [],
   "source": [
    "for demographic in demographics:\n",
    "    arr = []\n",
    "    for row in df.iterrows():\n",
    "        if row[1].demographic_accuracy:\n",
    "            arr.append(row[1].demographic_accuracy[demographic])\n",
    "        else:\n",
    "            arr.append(None)\n",
    "    df[demographic] = arr"
   ]
  },
  {
   "cell_type": "code",
   "execution_count": 16,
   "id": "12e45b88-25e5-49f3-9d45-65703ca0474e",
   "metadata": {
    "tags": []
   },
   "outputs": [
    {
     "data": {
      "text/plain": [
       "<AxesSubplot:title={'center':'white'}, xlabel='model'>"
      ]
     },
     "execution_count": 16,
     "metadata": {},
     "output_type": "execute_result"
    },
    {
     "data": {
      "image/png": "[encoded data removed]",
      "text/plain": [
       "<Figure size 432x288 with 1 Axes>"
      ]
     },
     "metadata": {
      "needs_background": "light"
     },
     "output_type": "display_data"
    }
   ],
   "source": [
    "df.groupby('model').white.mean().plot(kind='bar', title='white')"
   ]
  },
  {
   "cell_type": "code",
   "execution_count": 17,
   "id": "c3a3e807-4ada-4b66-94db-96dc2b247a40",
   "metadata": {
    "tags": []
   },
   "outputs": [
    {
     "data": {
      "text/plain": [
       "<AxesSubplot:title={'center':'black'}, xlabel='model'>"
      ]
     },
     "execution_count": 17,
     "metadata": {},
     "output_type": "execute_result"
    },
    {
     "data": {
      "image/png": "[encoded data removed]",
      "text/plain": [
       "<Figure size 432x288 with 1 Axes>"
      ]
     },
     "metadata": {
      "needs_background": "light"
     },
     "output_type": "display_data"
    }
   ],
   "source": [
    "df.groupby('model').black.mean().plot(kind='bar', title='black')"
   ]
  },
  {
   "cell_type": "code",
   "execution_count": 18,
   "id": "808af7d1-c08e-406c-8e0c-37a3f857da2c",
   "metadata": {
    "tags": []
   },
   "outputs": [
    {
     "data": {
      "text/plain": [
       "<AxesSubplot:title={'center':'asian'}, xlabel='model'>"
      ]
     },
     "execution_count": 18,
     "metadata": {},
     "output_type": "execute_result"
    },
    {
     "data": {
      "image/png": "[encoded data removed]",
      "text/plain": [
       "<Figure size 432x288 with 1 Axes>"
      ]
     },
     "metadata": {
      "needs_background": "light"
     },
     "output_type": "display_data"
    }
   ],
   "source": [
    "df.groupby('model').asian.mean().plot(kind='bar', title='asian')"
   ]
  },
  {
   "cell_type": "code",
   "execution_count": 19,
   "id": "3338bd3e-646c-4905-921e-a8270e726d23",
   "metadata": {
    "tags": []
   },
   "outputs": [
    {
     "data": {
      "text/plain": [
       "<AxesSubplot:title={'center':'indian'}, xlabel='model'>"
      ]
     },
     "execution_count": 19,
     "metadata": {},
     "output_type": "execute_result"
    },
    {
     "data": {
      "image/png": "[encoded data removed]",
      "text/plain": [
       "<Figure size 432x288 with 1 Axes>"
      ]
     },
     "metadata": {
      "needs_background": "light"
     },
     "output_type": "display_data"
    }
   ],
   "source": [
    "df.groupby('model').indian.mean().plot(kind='bar', title='indian')"
   ]
  },
  {
   "cell_type": "code",
   "execution_count": 20,
   "id": "971fb0f1-a350-495b-a81b-74a96f0e800d",
   "metadata": {
    "tags": []
   },
   "outputs": [
    {
     "data": {
      "text/plain": [
       "<AxesSubplot:title={'center':'males'}, xlabel='model'>"
      ]
     },
     "execution_count": 20,
     "metadata": {},
     "output_type": "execute_result"
    },
    {
     "data": {
      "image/png": "[encoded data removed]",
      "text/plain": [
       "<Figure size 432x288 with 1 Axes>"
      ]
     },
     "metadata": {
      "needs_background": "light"
     },
     "output_type": "display_data"
    }
   ],
   "source": [
    "df.groupby('model').males.mean().plot(kind='bar', title='males')"
   ]
  },
  {
   "cell_type": "code",
   "execution_count": 21,
   "id": "b80eb1f3-274e-4cc5-b8cb-1666d5130670",
   "metadata": {
    "tags": []
   },
   "outputs": [
    {
     "data": {
      "text/plain": [
       "<AxesSubplot:title={'center':'females'}, xlabel='model'>"
      ]
     },
     "execution_count": 21,
     "metadata": {},
     "output_type": "execute_result"
    },
    {
     "data": {
      "image/png": "[encoded data removed]",
      "text/plain": [
       "<Figure size 432x288 with 1 Axes>"
      ]
     },
     "metadata": {
      "needs_background": "light"
     },
     "output_type": "display_data"
    }
   ],
   "source": [
    "df.groupby('model').females.mean().plot(kind='bar', title='females')"
   ]
  },
  {
   "cell_type": "code",
   "execution_count": 22,
   "id": "428b6180-8ce0-4df8-8c0e-558b2cd3f1e0",
   "metadata": {
    "tags": []
   },
   "outputs": [
    {
     "data": {
      "text/plain": [
       "<AxesSubplot:xlabel='model'>"
      ]
     },
     "execution_count": 22,
     "metadata": {},
     "output_type": "execute_result"
    },
    {
     "data": {
      "image/png": "[encoded data removed]",
      "text/plain": [
       "<Figure size 432x288 with 1 Axes>"
      ]
     },
     "metadata": {
      "needs_background": "light"
     },
     "output_type": "display_data"
    }
   ],
   "source": [
    "df.groupby('model').white_males.mean().plot(kind='bar')"
   ]
  },
  {
   "cell_type": "code",
   "execution_count": 23,
   "id": "78201110-e7c9-41fb-9c0d-41e97de63f65",
   "metadata": {
    "tags": []
   },
   "outputs": [
    {
     "data": {
      "text/plain": [
       "<AxesSubplot:xlabel='model'>"
      ]
     },
     "execution_count": 23,
     "metadata": {},
     "output_type": "execute_result"
    },
    {
     "data": {
      "image/png": "[encoded data removed]",
      "text/plain": [
       "<Figure size 432x288 with 1 Axes>"
      ]
     },
     "metadata": {
      "needs_background": "light"
     },
     "output_type": "display_data"
    }
   ],
   "source": [
    "df.groupby('model').black_males.mean().plot(kind='bar')"
   ]
  },
  {
   "cell_type": "code",
   "execution_count": 24,
   "id": "2b31de36-f230-4a76-88de-f0900476637d",
   "metadata": {},
   "outputs": [
    {
     "data": {
      "text/plain": [
       "<AxesSubplot:xlabel='model'>"
      ]
     },
     "execution_count": 24,
     "metadata": {},
     "output_type": "execute_result"
    },
    {
     "data": {
      "image/png": "[encoded data removed]",
      "text/plain": [
       "<Figure size 432x288 with 1 Axes>"
      ]
     },
     "metadata": {
      "needs_background": "light"
     },
     "output_type": "display_data"
    }
   ],
   "source": [
    "df.groupby('model').white_males.mean().plot(kind='bar')"
   ]
  },
  {
   "cell_type": "code",
   "execution_count": 25,
   "id": "0f724bd6-f289-4379-9f4b-057627626f3c",
   "metadata": {
    "tags": []
   },
   "outputs": [
    {
     "data": {
      "text/plain": [
       "0                   LFW\n",
       "1                   LFW\n",
       "2             Yale Data\n",
       "3             Yale Data\n",
       "4     BFW Probabilistic\n",
       "5     BFW Probabilistic\n",
       "6     BFW Probabilistic\n",
       "7     BFW Probabilistic\n",
       "8          BFW Balanced\n",
       "9          BFW Balanced\n",
       "10         BFW Balanced\n",
       "11         BFW Balanced\n",
       "12                  LFW\n",
       "13                  LFW\n",
       "14              TA Data\n",
       "15              TA Data\n",
       "16              TA Data\n",
       "17              TA Data\n",
       "18            Yale Data\n",
       "19            Yale Data\n",
       "Name: dataset, dtype: object"
      ]
     },
     "execution_count": 25,
     "metadata": {},
     "output_type": "execute_result"
    }
   ],
   "source": [
    "df.dataset"
   ]
  },
  {
   "cell_type": "code",
   "execution_count": 26,
   "id": "aa97387b-7b97-4478-ba15-2eff16fbbde0",
   "metadata": {
    "tags": []
   },
   "outputs": [
    {
     "data": {
      "text/plain": [
       "<AxesSubplot:xlabel='Model', ylabel='Accuracy'>"
      ]
     },
     "execution_count": 26,
     "metadata": {},
     "output_type": "execute_result"
    },
    {
     "data": {
      "image/png": "[encoded data removed]",
      "text/plain": [
       "<Figure size 432x288 with 1 Axes>"
      ]
     },
     "metadata": {
      "needs_background": "light"
     },
     "output_type": "display_data"
    }
   ],
   "source": [
    "df.loc[df.dataset == \"BFW Balanced\"].groupby('model')[demographics].mean().plot(kind=\"bar\", xlabel=\"Model\", ylabel=\"Accuracy\")"
   ]
  },
  {
   "cell_type": "code",
   "execution_count": null,
   "id": "f10760d3-4718-46b3-908f-096adf5860ff",
   "metadata": {},
   "outputs": [],
   "source": []
  }
 ],
 "metadata": {
  "kernelspec": {
   "display_name": "Python 3 (ipykernel)",
   "language": "python",
   "name": "python3"
  },
  "language_info": {
   "codemirror_mode": {
    "name": "ipython",
    "version": 3
   },
   "file_extension": ".py",
   "mimetype": "text/x-python",
   "name": "python",
   "nbconvert_exporter": "python",
   "pygments_lexer": "ipython3",
   "version": "3.8.9"
  }
 },
 "nbformat": 4,
 "nbformat_minor": 5
}
